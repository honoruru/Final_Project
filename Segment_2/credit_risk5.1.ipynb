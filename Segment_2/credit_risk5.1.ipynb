{
 "cells": [
  {
   "cell_type": "code",
   "execution_count": 1,
   "id": "cf064b2d",
   "metadata": {},
   "outputs": [],
   "source": [
    "import warnings\n",
    "warnings.filterwarnings('ignore')\n",
    "\n",
    "import numpy as np\n",
    "import pandas as pd\n",
    "\n",
    "from pathlib import Path\n",
    "from collections import Counter\n",
    "\n",
    "from imblearn.metrics import classification_report_imbalanced\n",
    "from imblearn.ensemble import BalancedRandomForestClassifier\n",
    "from imblearn.ensemble import EasyEnsembleClassifier\n",
    "\n",
    "from sklearn.metrics import confusion_matrix, accuracy_score, classification_report\n",
    "from sklearn.metrics import balanced_accuracy_score\n",
    "from sklearn.metrics import confusion_matrix\n",
    "from sklearn.ensemble import RandomForestClassifier\n",
    "from sklearn.preprocessing import StandardScaler\n",
    "from sklearn.model_selection import train_test_split"
   ]
  },
  {
   "cell_type": "code",
   "execution_count": 153,
   "id": "05f3d870",
   "metadata": {},
   "outputs": [
    {
     "data": {
      "text/html": [
       "<div>\n",
       "<style scoped>\n",
       "    .dataframe tbody tr th:only-of-type {\n",
       "        vertical-align: middle;\n",
       "    }\n",
       "\n",
       "    .dataframe tbody tr th {\n",
       "        vertical-align: top;\n",
       "    }\n",
       "\n",
       "    .dataframe thead th {\n",
       "        text-align: right;\n",
       "    }\n",
       "</style>\n",
       "<table border=\"1\" class=\"dataframe\">\n",
       "  <thead>\n",
       "    <tr style=\"text-align: right;\">\n",
       "      <th></th>\n",
       "      <th>keyid</th>\n",
       "      <th>loantype</th>\n",
       "      <th>loanbranch</th>\n",
       "      <th>acctnumber</th>\n",
       "      <th>loanid</th>\n",
       "      <th>loandescription</th>\n",
       "      <th>loanpurposecode</th>\n",
       "      <th>loanpurposecodedesc</th>\n",
       "      <th>loanopendate</th>\n",
       "      <th>loanapprovalcode</th>\n",
       "      <th>...</th>\n",
       "      <th>loaninterestrate</th>\n",
       "      <th>loanoriginalbalance</th>\n",
       "      <th>loanpayment</th>\n",
       "      <th>loanpaymentcount</th>\n",
       "      <th>loandelqdays</th>\n",
       "      <th>loancreditscore</th>\n",
       "      <th>debtratio</th>\n",
       "      <th>loantovalue</th>\n",
       "      <th>rbl</th>\n",
       "      <th>loanchargeoffdate</th>\n",
       "    </tr>\n",
       "  </thead>\n",
       "  <tbody>\n",
       "    <tr>\n",
       "      <th>0</th>\n",
       "      <td>3273200</td>\n",
       "      <td>9</td>\n",
       "      <td>16</td>\n",
       "      <td>327320</td>\n",
       "      <td>0</td>\n",
       "      <td>PERSONAL LOAN</td>\n",
       "      <td>25</td>\n",
       "      <td>Personal/Miscellaneous</td>\n",
       "      <td>6/26/2019</td>\n",
       "      <td>1407</td>\n",
       "      <td>...</td>\n",
       "      <td>14.50</td>\n",
       "      <td>1000.00</td>\n",
       "      <td>91.87</td>\n",
       "      <td>12</td>\n",
       "      <td>128</td>\n",
       "      <td>0</td>\n",
       "      <td>0.3630</td>\n",
       "      <td>0.0</td>\n",
       "      <td>4</td>\n",
       "      <td>1.0</td>\n",
       "    </tr>\n",
       "    <tr>\n",
       "      <th>1</th>\n",
       "      <td>3256971</td>\n",
       "      <td>5</td>\n",
       "      <td>21</td>\n",
       "      <td>325697</td>\n",
       "      <td>1</td>\n",
       "      <td>2015 DODGE CHARGER</td>\n",
       "      <td>172</td>\n",
       "      <td>Mini of Hawaii</td>\n",
       "      <td>6/22/2019</td>\n",
       "      <td>1437</td>\n",
       "      <td>...</td>\n",
       "      <td>16.25</td>\n",
       "      <td>23399.52</td>\n",
       "      <td>645.81</td>\n",
       "      <td>60</td>\n",
       "      <td>135</td>\n",
       "      <td>530</td>\n",
       "      <td>0.0000</td>\n",
       "      <td>0.0</td>\n",
       "      <td>5</td>\n",
       "      <td>1.0</td>\n",
       "    </tr>\n",
       "    <tr>\n",
       "      <th>2</th>\n",
       "      <td>3054723</td>\n",
       "      <td>9</td>\n",
       "      <td>11</td>\n",
       "      <td>305472</td>\n",
       "      <td>3</td>\n",
       "      <td>PERSONAL LOAN</td>\n",
       "      <td>3</td>\n",
       "      <td>Consolidation</td>\n",
       "      <td>6/19/2019</td>\n",
       "      <td>780</td>\n",
       "      <td>...</td>\n",
       "      <td>7.00</td>\n",
       "      <td>18855.64</td>\n",
       "      <td>373.53</td>\n",
       "      <td>60</td>\n",
       "      <td>133</td>\n",
       "      <td>722</td>\n",
       "      <td>0.4139</td>\n",
       "      <td>0.0</td>\n",
       "      <td>1</td>\n",
       "      <td>1.0</td>\n",
       "    </tr>\n",
       "    <tr>\n",
       "      <th>3</th>\n",
       "      <td>3111884</td>\n",
       "      <td>9</td>\n",
       "      <td>8</td>\n",
       "      <td>311188</td>\n",
       "      <td>4</td>\n",
       "      <td>DOWNPAYMENT</td>\n",
       "      <td>3</td>\n",
       "      <td>Consolidation</td>\n",
       "      <td>6/17/2019</td>\n",
       "      <td>570</td>\n",
       "      <td>...</td>\n",
       "      <td>15.50</td>\n",
       "      <td>1570.00</td>\n",
       "      <td>145.22</td>\n",
       "      <td>12</td>\n",
       "      <td>133</td>\n",
       "      <td>571</td>\n",
       "      <td>0.3862</td>\n",
       "      <td>0.0</td>\n",
       "      <td>5</td>\n",
       "      <td>1.0</td>\n",
       "    </tr>\n",
       "    <tr>\n",
       "      <th>4</th>\n",
       "      <td>3122810</td>\n",
       "      <td>9</td>\n",
       "      <td>1</td>\n",
       "      <td>312281</td>\n",
       "      <td>0</td>\n",
       "      <td>PERSONAL LOAN</td>\n",
       "      <td>3</td>\n",
       "      <td>Consolidation</td>\n",
       "      <td>5/29/2019</td>\n",
       "      <td>780</td>\n",
       "      <td>...</td>\n",
       "      <td>6.00</td>\n",
       "      <td>14536.00</td>\n",
       "      <td>308.23</td>\n",
       "      <td>60</td>\n",
       "      <td>123</td>\n",
       "      <td>720</td>\n",
       "      <td>0.7634</td>\n",
       "      <td>0.0</td>\n",
       "      <td>1</td>\n",
       "      <td>1.0</td>\n",
       "    </tr>\n",
       "  </tbody>\n",
       "</table>\n",
       "<p>5 rows × 21 columns</p>\n",
       "</div>"
      ],
      "text/plain": [
       "     keyid  loantype  loanbranch  acctnumber  loanid     loandescription  \\\n",
       "0  3273200         9          16      327320       0       PERSONAL LOAN   \n",
       "1  3256971         5          21      325697       1  2015 DODGE CHARGER   \n",
       "2  3054723         9          11      305472       3       PERSONAL LOAN   \n",
       "3  3111884         9           8      311188       4         DOWNPAYMENT   \n",
       "4  3122810         9           1      312281       0       PERSONAL LOAN   \n",
       "\n",
       "   loanpurposecode     loanpurposecodedesc loanopendate  loanapprovalcode  \\\n",
       "0               25  Personal/Miscellaneous    6/26/2019              1407   \n",
       "1              172          Mini of Hawaii    6/22/2019              1437   \n",
       "2                3           Consolidation    6/19/2019               780   \n",
       "3                3           Consolidation    6/17/2019               570   \n",
       "4                3           Consolidation    5/29/2019               780   \n",
       "\n",
       "   ... loaninterestrate  loanoriginalbalance  loanpayment  loanpaymentcount  \\\n",
       "0  ...            14.50              1000.00        91.87                12   \n",
       "1  ...            16.25             23399.52       645.81                60   \n",
       "2  ...             7.00             18855.64       373.53                60   \n",
       "3  ...            15.50              1570.00       145.22                12   \n",
       "4  ...             6.00             14536.00       308.23                60   \n",
       "\n",
       "   loandelqdays  loancreditscore  debtratio  loantovalue  rbl  \\\n",
       "0           128                0     0.3630          0.0    4   \n",
       "1           135              530     0.0000          0.0    5   \n",
       "2           133              722     0.4139          0.0    1   \n",
       "3           133              571     0.3862          0.0    5   \n",
       "4           123              720     0.7634          0.0    1   \n",
       "\n",
       "   loanchargeoffdate  \n",
       "0                1.0  \n",
       "1                1.0  \n",
       "2                1.0  \n",
       "3                1.0  \n",
       "4                1.0  \n",
       "\n",
       "[5 rows x 21 columns]"
      ]
     },
     "execution_count": 153,
     "metadata": {},
     "output_type": "execute_result"
    }
   ],
   "source": [
    "# Load the data\n",
    "file_path = \"c:./Resources/joined_loans_v5_clean.csv\"\n",
    "df = pd.read_csv(file_path)\n",
    "df.head()"
   ]
  },
  {
   "cell_type": "code",
   "execution_count": 154,
   "id": "a0ac51e8",
   "metadata": {},
   "outputs": [
    {
     "data": {
      "text/plain": [
       "keyid                        int64\n",
       "loantype                     int64\n",
       "loanbranch                   int64\n",
       "acctnumber                   int64\n",
       "loanid                       int64\n",
       "loandescription             object\n",
       "loanpurposecode              int64\n",
       "loanpurposecodedesc         object\n",
       "loanopendate                object\n",
       "loanapprovalcode             int64\n",
       "loanapprovalofficername     object\n",
       "loaninterestrate           float64\n",
       "loanoriginalbalance        float64\n",
       "loanpayment                float64\n",
       "loanpaymentcount             int64\n",
       "loandelqdays                 int64\n",
       "loancreditscore              int64\n",
       "debtratio                  float64\n",
       "loantovalue                float64\n",
       "rbl                          int64\n",
       "loanchargeoffdate          float64\n",
       "dtype: object"
      ]
     },
     "execution_count": 154,
     "metadata": {},
     "output_type": "execute_result"
    }
   ],
   "source": [
    "df.dtypes"
   ]
  },
  {
   "cell_type": "code",
   "execution_count": 155,
   "id": "81018afa",
   "metadata": {},
   "outputs": [
    {
     "name": "stdout",
     "output_type": "stream",
     "text": [
      "Column keyid has 0 null values\n",
      "Column loantype has 0 null values\n",
      "Column loanbranch has 0 null values\n",
      "Column acctnumber has 0 null values\n",
      "Column loanid has 0 null values\n",
      "Column loandescription has 0 null values\n",
      "Column loanpurposecode has 0 null values\n",
      "Column loanpurposecodedesc has 29 null values\n",
      "Column loanopendate has 0 null values\n",
      "Column loanapprovalcode has 0 null values\n",
      "Column loanapprovalofficername has 28 null values\n",
      "Column loaninterestrate has 0 null values\n",
      "Column loanoriginalbalance has 0 null values\n",
      "Column loanpayment has 0 null values\n",
      "Column loanpaymentcount has 0 null values\n",
      "Column loandelqdays has 0 null values\n",
      "Column loancreditscore has 0 null values\n",
      "Column debtratio has 0 null values\n",
      "Column loantovalue has 0 null values\n",
      "Column rbl has 0 null values\n",
      "Column loanchargeoffdate has 21333 null values\n"
     ]
    }
   ],
   "source": [
    "# Find null values\n",
    "for column in df.columns:\n",
    "    print(f'Column {column} has {df[column].isnull().sum()} null values')"
   ]
  },
  {
   "cell_type": "code",
   "execution_count": 156,
   "id": "5ef9b096",
   "metadata": {
    "scrolled": true
   },
   "outputs": [
    {
     "data": {
      "text/html": [
       "<div>\n",
       "<style scoped>\n",
       "    .dataframe tbody tr th:only-of-type {\n",
       "        vertical-align: middle;\n",
       "    }\n",
       "\n",
       "    .dataframe tbody tr th {\n",
       "        vertical-align: top;\n",
       "    }\n",
       "\n",
       "    .dataframe thead th {\n",
       "        text-align: right;\n",
       "    }\n",
       "</style>\n",
       "<table border=\"1\" class=\"dataframe\">\n",
       "  <thead>\n",
       "    <tr style=\"text-align: right;\">\n",
       "      <th></th>\n",
       "      <th>keyid</th>\n",
       "      <th>loantype</th>\n",
       "      <th>loanbranch</th>\n",
       "      <th>loanpurposecode</th>\n",
       "      <th>loanapprovalcode</th>\n",
       "      <th>loaninterestrate</th>\n",
       "      <th>loanoriginalbalance</th>\n",
       "      <th>loanpayment</th>\n",
       "      <th>loanpaymentcount</th>\n",
       "      <th>loancreditscore</th>\n",
       "      <th>debtratio</th>\n",
       "      <th>loantovalue</th>\n",
       "      <th>rbl</th>\n",
       "      <th>loanchargeoffdate</th>\n",
       "    </tr>\n",
       "  </thead>\n",
       "  <tbody>\n",
       "    <tr>\n",
       "      <th>0</th>\n",
       "      <td>3273200</td>\n",
       "      <td>9</td>\n",
       "      <td>16</td>\n",
       "      <td>25</td>\n",
       "      <td>1407</td>\n",
       "      <td>14.50</td>\n",
       "      <td>1000.00</td>\n",
       "      <td>91.87</td>\n",
       "      <td>12</td>\n",
       "      <td>0</td>\n",
       "      <td>0.3630</td>\n",
       "      <td>0.0000</td>\n",
       "      <td>4</td>\n",
       "      <td>1.0</td>\n",
       "    </tr>\n",
       "    <tr>\n",
       "      <th>1</th>\n",
       "      <td>3256971</td>\n",
       "      <td>5</td>\n",
       "      <td>21</td>\n",
       "      <td>172</td>\n",
       "      <td>1437</td>\n",
       "      <td>16.25</td>\n",
       "      <td>23399.52</td>\n",
       "      <td>645.81</td>\n",
       "      <td>60</td>\n",
       "      <td>530</td>\n",
       "      <td>0.0000</td>\n",
       "      <td>0.0000</td>\n",
       "      <td>5</td>\n",
       "      <td>1.0</td>\n",
       "    </tr>\n",
       "    <tr>\n",
       "      <th>2</th>\n",
       "      <td>3054723</td>\n",
       "      <td>9</td>\n",
       "      <td>11</td>\n",
       "      <td>3</td>\n",
       "      <td>780</td>\n",
       "      <td>7.00</td>\n",
       "      <td>18855.64</td>\n",
       "      <td>373.53</td>\n",
       "      <td>60</td>\n",
       "      <td>722</td>\n",
       "      <td>0.4139</td>\n",
       "      <td>0.0000</td>\n",
       "      <td>1</td>\n",
       "      <td>1.0</td>\n",
       "    </tr>\n",
       "    <tr>\n",
       "      <th>3</th>\n",
       "      <td>3111884</td>\n",
       "      <td>9</td>\n",
       "      <td>8</td>\n",
       "      <td>3</td>\n",
       "      <td>570</td>\n",
       "      <td>15.50</td>\n",
       "      <td>1570.00</td>\n",
       "      <td>145.22</td>\n",
       "      <td>12</td>\n",
       "      <td>571</td>\n",
       "      <td>0.3862</td>\n",
       "      <td>0.0000</td>\n",
       "      <td>5</td>\n",
       "      <td>1.0</td>\n",
       "    </tr>\n",
       "    <tr>\n",
       "      <th>4</th>\n",
       "      <td>3122810</td>\n",
       "      <td>9</td>\n",
       "      <td>1</td>\n",
       "      <td>3</td>\n",
       "      <td>780</td>\n",
       "      <td>6.00</td>\n",
       "      <td>14536.00</td>\n",
       "      <td>308.23</td>\n",
       "      <td>60</td>\n",
       "      <td>720</td>\n",
       "      <td>0.7634</td>\n",
       "      <td>0.0000</td>\n",
       "      <td>1</td>\n",
       "      <td>1.0</td>\n",
       "    </tr>\n",
       "    <tr>\n",
       "      <th>...</th>\n",
       "      <td>...</td>\n",
       "      <td>...</td>\n",
       "      <td>...</td>\n",
       "      <td>...</td>\n",
       "      <td>...</td>\n",
       "      <td>...</td>\n",
       "      <td>...</td>\n",
       "      <td>...</td>\n",
       "      <td>...</td>\n",
       "      <td>...</td>\n",
       "      <td>...</td>\n",
       "      <td>...</td>\n",
       "      <td>...</td>\n",
       "      <td>...</td>\n",
       "    </tr>\n",
       "    <tr>\n",
       "      <th>22503</th>\n",
       "      <td>2859041</td>\n",
       "      <td>9</td>\n",
       "      <td>7</td>\n",
       "      <td>90</td>\n",
       "      <td>585</td>\n",
       "      <td>5.50</td>\n",
       "      <td>40180.00</td>\n",
       "      <td>592.87</td>\n",
       "      <td>84</td>\n",
       "      <td>843</td>\n",
       "      <td>0.3294</td>\n",
       "      <td>0.0000</td>\n",
       "      <td>1</td>\n",
       "      <td>NaN</td>\n",
       "    </tr>\n",
       "    <tr>\n",
       "      <th>22504</th>\n",
       "      <td>259490</td>\n",
       "      <td>9</td>\n",
       "      <td>1</td>\n",
       "      <td>7</td>\n",
       "      <td>780</td>\n",
       "      <td>4.50</td>\n",
       "      <td>20000.00</td>\n",
       "      <td>373.02</td>\n",
       "      <td>60</td>\n",
       "      <td>772</td>\n",
       "      <td>0.3633</td>\n",
       "      <td>0.0000</td>\n",
       "      <td>1</td>\n",
       "      <td>NaN</td>\n",
       "    </tr>\n",
       "    <tr>\n",
       "      <th>22505</th>\n",
       "      <td>1165586</td>\n",
       "      <td>5</td>\n",
       "      <td>7</td>\n",
       "      <td>13</td>\n",
       "      <td>780</td>\n",
       "      <td>3.25</td>\n",
       "      <td>18239.00</td>\n",
       "      <td>362.72</td>\n",
       "      <td>60</td>\n",
       "      <td>734</td>\n",
       "      <td>0.3455</td>\n",
       "      <td>1.0287</td>\n",
       "      <td>1</td>\n",
       "      <td>NaN</td>\n",
       "    </tr>\n",
       "    <tr>\n",
       "      <th>22506</th>\n",
       "      <td>1736283</td>\n",
       "      <td>12</td>\n",
       "      <td>4</td>\n",
       "      <td>40</td>\n",
       "      <td>570</td>\n",
       "      <td>6.75</td>\n",
       "      <td>25000.00</td>\n",
       "      <td>259.00</td>\n",
       "      <td>0</td>\n",
       "      <td>791</td>\n",
       "      <td>0.3218</td>\n",
       "      <td>0.0000</td>\n",
       "      <td>1</td>\n",
       "      <td>NaN</td>\n",
       "    </tr>\n",
       "    <tr>\n",
       "      <th>22507</th>\n",
       "      <td>2575610</td>\n",
       "      <td>9</td>\n",
       "      <td>9</td>\n",
       "      <td>91</td>\n",
       "      <td>55</td>\n",
       "      <td>6.00</td>\n",
       "      <td>32800.00</td>\n",
       "      <td>364.69</td>\n",
       "      <td>120</td>\n",
       "      <td>654</td>\n",
       "      <td>0.2996</td>\n",
       "      <td>0.0000</td>\n",
       "      <td>1</td>\n",
       "      <td>NaN</td>\n",
       "    </tr>\n",
       "  </tbody>\n",
       "</table>\n",
       "<p>22508 rows × 14 columns</p>\n",
       "</div>"
      ],
      "text/plain": [
       "         keyid  loantype  loanbranch  loanpurposecode  loanapprovalcode  \\\n",
       "0      3273200         9          16               25              1407   \n",
       "1      3256971         5          21              172              1437   \n",
       "2      3054723         9          11                3               780   \n",
       "3      3111884         9           8                3               570   \n",
       "4      3122810         9           1                3               780   \n",
       "...        ...       ...         ...              ...               ...   \n",
       "22503  2859041         9           7               90               585   \n",
       "22504   259490         9           1                7               780   \n",
       "22505  1165586         5           7               13               780   \n",
       "22506  1736283        12           4               40               570   \n",
       "22507  2575610         9           9               91                55   \n",
       "\n",
       "       loaninterestrate  loanoriginalbalance  loanpayment  loanpaymentcount  \\\n",
       "0                 14.50              1000.00        91.87                12   \n",
       "1                 16.25             23399.52       645.81                60   \n",
       "2                  7.00             18855.64       373.53                60   \n",
       "3                 15.50              1570.00       145.22                12   \n",
       "4                  6.00             14536.00       308.23                60   \n",
       "...                 ...                  ...          ...               ...   \n",
       "22503              5.50             40180.00       592.87                84   \n",
       "22504              4.50             20000.00       373.02                60   \n",
       "22505              3.25             18239.00       362.72                60   \n",
       "22506              6.75             25000.00       259.00                 0   \n",
       "22507              6.00             32800.00       364.69               120   \n",
       "\n",
       "       loancreditscore  debtratio  loantovalue  rbl  loanchargeoffdate  \n",
       "0                    0     0.3630       0.0000    4                1.0  \n",
       "1                  530     0.0000       0.0000    5                1.0  \n",
       "2                  722     0.4139       0.0000    1                1.0  \n",
       "3                  571     0.3862       0.0000    5                1.0  \n",
       "4                  720     0.7634       0.0000    1                1.0  \n",
       "...                ...        ...          ...  ...                ...  \n",
       "22503              843     0.3294       0.0000    1                NaN  \n",
       "22504              772     0.3633       0.0000    1                NaN  \n",
       "22505              734     0.3455       1.0287    1                NaN  \n",
       "22506              791     0.3218       0.0000    1                NaN  \n",
       "22507              654     0.2996       0.0000    1                NaN  \n",
       "\n",
       "[22508 rows x 14 columns]"
      ]
     },
     "execution_count": 156,
     "metadata": {},
     "output_type": "execute_result"
    }
   ],
   "source": [
    "# Create a new DataFrame that removes useless columns.\n",
    "\n",
    "loans_df = df.drop(columns=[\"acctnumber\", \n",
    "                            \"loanid\",\n",
    "                            \"loandescription\",\n",
    "                            \"loanpurposecodedesc\",\n",
    "                            \"loanopendate\",\n",
    "                            \"loanapprovalofficername\",\n",
    "                            \"loandelqdays\"\n",
    "                           ])\n",
    "loans_df"
   ]
  },
  {
   "cell_type": "code",
   "execution_count": 157,
   "id": "5b4f45e3",
   "metadata": {},
   "outputs": [
    {
     "data": {
      "text/html": [
       "<div>\n",
       "<style scoped>\n",
       "    .dataframe tbody tr th:only-of-type {\n",
       "        vertical-align: middle;\n",
       "    }\n",
       "\n",
       "    .dataframe tbody tr th {\n",
       "        vertical-align: top;\n",
       "    }\n",
       "\n",
       "    .dataframe thead th {\n",
       "        text-align: right;\n",
       "    }\n",
       "</style>\n",
       "<table border=\"1\" class=\"dataframe\">\n",
       "  <thead>\n",
       "    <tr style=\"text-align: right;\">\n",
       "      <th></th>\n",
       "      <th>keyid</th>\n",
       "      <th>loantype</th>\n",
       "      <th>loanbranch</th>\n",
       "      <th>loanpurposecode</th>\n",
       "      <th>loanapprovalcode</th>\n",
       "      <th>loaninterestrate</th>\n",
       "      <th>loanoriginalbalance</th>\n",
       "      <th>loanpayment</th>\n",
       "      <th>loanpaymentcount</th>\n",
       "      <th>loancreditscore</th>\n",
       "      <th>debtratio</th>\n",
       "      <th>loantovalue</th>\n",
       "      <th>rbl</th>\n",
       "      <th>loanchargeoffdate</th>\n",
       "    </tr>\n",
       "  </thead>\n",
       "  <tbody>\n",
       "    <tr>\n",
       "      <th>0</th>\n",
       "      <td>3273200</td>\n",
       "      <td>9</td>\n",
       "      <td>16</td>\n",
       "      <td>25</td>\n",
       "      <td>1407</td>\n",
       "      <td>14.50</td>\n",
       "      <td>1000.00</td>\n",
       "      <td>91.87</td>\n",
       "      <td>12</td>\n",
       "      <td>0</td>\n",
       "      <td>0.3630</td>\n",
       "      <td>0.0000</td>\n",
       "      <td>4</td>\n",
       "      <td>1.0</td>\n",
       "    </tr>\n",
       "    <tr>\n",
       "      <th>1</th>\n",
       "      <td>3256971</td>\n",
       "      <td>5</td>\n",
       "      <td>21</td>\n",
       "      <td>172</td>\n",
       "      <td>1437</td>\n",
       "      <td>16.25</td>\n",
       "      <td>23399.52</td>\n",
       "      <td>645.81</td>\n",
       "      <td>60</td>\n",
       "      <td>530</td>\n",
       "      <td>0.0000</td>\n",
       "      <td>0.0000</td>\n",
       "      <td>5</td>\n",
       "      <td>1.0</td>\n",
       "    </tr>\n",
       "    <tr>\n",
       "      <th>2</th>\n",
       "      <td>3054723</td>\n",
       "      <td>9</td>\n",
       "      <td>11</td>\n",
       "      <td>3</td>\n",
       "      <td>780</td>\n",
       "      <td>7.00</td>\n",
       "      <td>18855.64</td>\n",
       "      <td>373.53</td>\n",
       "      <td>60</td>\n",
       "      <td>722</td>\n",
       "      <td>0.4139</td>\n",
       "      <td>0.0000</td>\n",
       "      <td>1</td>\n",
       "      <td>1.0</td>\n",
       "    </tr>\n",
       "    <tr>\n",
       "      <th>3</th>\n",
       "      <td>3111884</td>\n",
       "      <td>9</td>\n",
       "      <td>8</td>\n",
       "      <td>3</td>\n",
       "      <td>570</td>\n",
       "      <td>15.50</td>\n",
       "      <td>1570.00</td>\n",
       "      <td>145.22</td>\n",
       "      <td>12</td>\n",
       "      <td>571</td>\n",
       "      <td>0.3862</td>\n",
       "      <td>0.0000</td>\n",
       "      <td>5</td>\n",
       "      <td>1.0</td>\n",
       "    </tr>\n",
       "    <tr>\n",
       "      <th>4</th>\n",
       "      <td>3122810</td>\n",
       "      <td>9</td>\n",
       "      <td>1</td>\n",
       "      <td>3</td>\n",
       "      <td>780</td>\n",
       "      <td>6.00</td>\n",
       "      <td>14536.00</td>\n",
       "      <td>308.23</td>\n",
       "      <td>60</td>\n",
       "      <td>720</td>\n",
       "      <td>0.7634</td>\n",
       "      <td>0.0000</td>\n",
       "      <td>1</td>\n",
       "      <td>1.0</td>\n",
       "    </tr>\n",
       "    <tr>\n",
       "      <th>...</th>\n",
       "      <td>...</td>\n",
       "      <td>...</td>\n",
       "      <td>...</td>\n",
       "      <td>...</td>\n",
       "      <td>...</td>\n",
       "      <td>...</td>\n",
       "      <td>...</td>\n",
       "      <td>...</td>\n",
       "      <td>...</td>\n",
       "      <td>...</td>\n",
       "      <td>...</td>\n",
       "      <td>...</td>\n",
       "      <td>...</td>\n",
       "      <td>...</td>\n",
       "    </tr>\n",
       "    <tr>\n",
       "      <th>22503</th>\n",
       "      <td>2859041</td>\n",
       "      <td>9</td>\n",
       "      <td>7</td>\n",
       "      <td>90</td>\n",
       "      <td>585</td>\n",
       "      <td>5.50</td>\n",
       "      <td>40180.00</td>\n",
       "      <td>592.87</td>\n",
       "      <td>84</td>\n",
       "      <td>843</td>\n",
       "      <td>0.3294</td>\n",
       "      <td>0.0000</td>\n",
       "      <td>1</td>\n",
       "      <td>0.0</td>\n",
       "    </tr>\n",
       "    <tr>\n",
       "      <th>22504</th>\n",
       "      <td>259490</td>\n",
       "      <td>9</td>\n",
       "      <td>1</td>\n",
       "      <td>7</td>\n",
       "      <td>780</td>\n",
       "      <td>4.50</td>\n",
       "      <td>20000.00</td>\n",
       "      <td>373.02</td>\n",
       "      <td>60</td>\n",
       "      <td>772</td>\n",
       "      <td>0.3633</td>\n",
       "      <td>0.0000</td>\n",
       "      <td>1</td>\n",
       "      <td>0.0</td>\n",
       "    </tr>\n",
       "    <tr>\n",
       "      <th>22505</th>\n",
       "      <td>1165586</td>\n",
       "      <td>5</td>\n",
       "      <td>7</td>\n",
       "      <td>13</td>\n",
       "      <td>780</td>\n",
       "      <td>3.25</td>\n",
       "      <td>18239.00</td>\n",
       "      <td>362.72</td>\n",
       "      <td>60</td>\n",
       "      <td>734</td>\n",
       "      <td>0.3455</td>\n",
       "      <td>1.0287</td>\n",
       "      <td>1</td>\n",
       "      <td>0.0</td>\n",
       "    </tr>\n",
       "    <tr>\n",
       "      <th>22506</th>\n",
       "      <td>1736283</td>\n",
       "      <td>12</td>\n",
       "      <td>4</td>\n",
       "      <td>40</td>\n",
       "      <td>570</td>\n",
       "      <td>6.75</td>\n",
       "      <td>25000.00</td>\n",
       "      <td>259.00</td>\n",
       "      <td>0</td>\n",
       "      <td>791</td>\n",
       "      <td>0.3218</td>\n",
       "      <td>0.0000</td>\n",
       "      <td>1</td>\n",
       "      <td>0.0</td>\n",
       "    </tr>\n",
       "    <tr>\n",
       "      <th>22507</th>\n",
       "      <td>2575610</td>\n",
       "      <td>9</td>\n",
       "      <td>9</td>\n",
       "      <td>91</td>\n",
       "      <td>55</td>\n",
       "      <td>6.00</td>\n",
       "      <td>32800.00</td>\n",
       "      <td>364.69</td>\n",
       "      <td>120</td>\n",
       "      <td>654</td>\n",
       "      <td>0.2996</td>\n",
       "      <td>0.0000</td>\n",
       "      <td>1</td>\n",
       "      <td>0.0</td>\n",
       "    </tr>\n",
       "  </tbody>\n",
       "</table>\n",
       "<p>22508 rows × 14 columns</p>\n",
       "</div>"
      ],
      "text/plain": [
       "         keyid  loantype  loanbranch  loanpurposecode  loanapprovalcode  \\\n",
       "0      3273200         9          16               25              1407   \n",
       "1      3256971         5          21              172              1437   \n",
       "2      3054723         9          11                3               780   \n",
       "3      3111884         9           8                3               570   \n",
       "4      3122810         9           1                3               780   \n",
       "...        ...       ...         ...              ...               ...   \n",
       "22503  2859041         9           7               90               585   \n",
       "22504   259490         9           1                7               780   \n",
       "22505  1165586         5           7               13               780   \n",
       "22506  1736283        12           4               40               570   \n",
       "22507  2575610         9           9               91                55   \n",
       "\n",
       "       loaninterestrate  loanoriginalbalance  loanpayment  loanpaymentcount  \\\n",
       "0                 14.50              1000.00        91.87                12   \n",
       "1                 16.25             23399.52       645.81                60   \n",
       "2                  7.00             18855.64       373.53                60   \n",
       "3                 15.50              1570.00       145.22                12   \n",
       "4                  6.00             14536.00       308.23                60   \n",
       "...                 ...                  ...          ...               ...   \n",
       "22503              5.50             40180.00       592.87                84   \n",
       "22504              4.50             20000.00       373.02                60   \n",
       "22505              3.25             18239.00       362.72                60   \n",
       "22506              6.75             25000.00       259.00                 0   \n",
       "22507              6.00             32800.00       364.69               120   \n",
       "\n",
       "       loancreditscore  debtratio  loantovalue  rbl  loanchargeoffdate  \n",
       "0                    0     0.3630       0.0000    4                1.0  \n",
       "1                  530     0.0000       0.0000    5                1.0  \n",
       "2                  722     0.4139       0.0000    1                1.0  \n",
       "3                  571     0.3862       0.0000    5                1.0  \n",
       "4                  720     0.7634       0.0000    1                1.0  \n",
       "...                ...        ...          ...  ...                ...  \n",
       "22503              843     0.3294       0.0000    1                0.0  \n",
       "22504              772     0.3633       0.0000    1                0.0  \n",
       "22505              734     0.3455       1.0287    1                0.0  \n",
       "22506              791     0.3218       0.0000    1                0.0  \n",
       "22507              654     0.2996       0.0000    1                0.0  \n",
       "\n",
       "[22508 rows x 14 columns]"
      ]
     },
     "execution_count": 157,
     "metadata": {},
     "output_type": "execute_result"
    }
   ],
   "source": [
    "# convert loanchargeoffdate to 0 or 1\n",
    "loans_df['loanchargeoffdate'] = loans_df['loanchargeoffdate'].replace([np.nan], 0)\n",
    "loans_df"
   ]
  },
  {
   "cell_type": "code",
   "execution_count": 158,
   "id": "d840e3cd",
   "metadata": {},
   "outputs": [
    {
     "data": {
      "text/html": [
       "<div>\n",
       "<style scoped>\n",
       "    .dataframe tbody tr th:only-of-type {\n",
       "        vertical-align: middle;\n",
       "    }\n",
       "\n",
       "    .dataframe tbody tr th {\n",
       "        vertical-align: top;\n",
       "    }\n",
       "\n",
       "    .dataframe thead th {\n",
       "        text-align: right;\n",
       "    }\n",
       "</style>\n",
       "<table border=\"1\" class=\"dataframe\">\n",
       "  <thead>\n",
       "    <tr style=\"text-align: right;\">\n",
       "      <th></th>\n",
       "      <th>keyid</th>\n",
       "      <th>loantype</th>\n",
       "      <th>loanbranch</th>\n",
       "      <th>loanpurposecode</th>\n",
       "      <th>loanapprovalcode</th>\n",
       "      <th>loaninterestrate</th>\n",
       "      <th>loanoriginalbalance</th>\n",
       "      <th>loanpayment</th>\n",
       "      <th>loanpaymentcount</th>\n",
       "      <th>loancreditscore</th>\n",
       "      <th>debtratio</th>\n",
       "      <th>loantovalue</th>\n",
       "      <th>rbl</th>\n",
       "      <th>loanchargeoffdate</th>\n",
       "    </tr>\n",
       "  </thead>\n",
       "  <tbody>\n",
       "    <tr>\n",
       "      <th>0</th>\n",
       "      <td>3273200</td>\n",
       "      <td>9</td>\n",
       "      <td>16</td>\n",
       "      <td>25</td>\n",
       "      <td>1407</td>\n",
       "      <td>14.50</td>\n",
       "      <td>1000.00</td>\n",
       "      <td>91.87</td>\n",
       "      <td>12</td>\n",
       "      <td>0</td>\n",
       "      <td>0.3630</td>\n",
       "      <td>0.0000</td>\n",
       "      <td>4</td>\n",
       "      <td>1.0</td>\n",
       "    </tr>\n",
       "    <tr>\n",
       "      <th>2</th>\n",
       "      <td>3054723</td>\n",
       "      <td>9</td>\n",
       "      <td>11</td>\n",
       "      <td>3</td>\n",
       "      <td>780</td>\n",
       "      <td>7.00</td>\n",
       "      <td>18855.64</td>\n",
       "      <td>373.53</td>\n",
       "      <td>60</td>\n",
       "      <td>722</td>\n",
       "      <td>0.4139</td>\n",
       "      <td>0.0000</td>\n",
       "      <td>1</td>\n",
       "      <td>1.0</td>\n",
       "    </tr>\n",
       "    <tr>\n",
       "      <th>3</th>\n",
       "      <td>3111884</td>\n",
       "      <td>9</td>\n",
       "      <td>8</td>\n",
       "      <td>3</td>\n",
       "      <td>570</td>\n",
       "      <td>15.50</td>\n",
       "      <td>1570.00</td>\n",
       "      <td>145.22</td>\n",
       "      <td>12</td>\n",
       "      <td>571</td>\n",
       "      <td>0.3862</td>\n",
       "      <td>0.0000</td>\n",
       "      <td>5</td>\n",
       "      <td>1.0</td>\n",
       "    </tr>\n",
       "    <tr>\n",
       "      <th>4</th>\n",
       "      <td>3122810</td>\n",
       "      <td>9</td>\n",
       "      <td>1</td>\n",
       "      <td>3</td>\n",
       "      <td>780</td>\n",
       "      <td>6.00</td>\n",
       "      <td>14536.00</td>\n",
       "      <td>308.23</td>\n",
       "      <td>60</td>\n",
       "      <td>720</td>\n",
       "      <td>0.7634</td>\n",
       "      <td>0.0000</td>\n",
       "      <td>1</td>\n",
       "      <td>1.0</td>\n",
       "    </tr>\n",
       "    <tr>\n",
       "      <th>5</th>\n",
       "      <td>336724</td>\n",
       "      <td>9</td>\n",
       "      <td>5</td>\n",
       "      <td>3</td>\n",
       "      <td>166</td>\n",
       "      <td>8.25</td>\n",
       "      <td>18048.20</td>\n",
       "      <td>369.26</td>\n",
       "      <td>60</td>\n",
       "      <td>691</td>\n",
       "      <td>0.4380</td>\n",
       "      <td>0.0000</td>\n",
       "      <td>2</td>\n",
       "      <td>1.0</td>\n",
       "    </tr>\n",
       "    <tr>\n",
       "      <th>...</th>\n",
       "      <td>...</td>\n",
       "      <td>...</td>\n",
       "      <td>...</td>\n",
       "      <td>...</td>\n",
       "      <td>...</td>\n",
       "      <td>...</td>\n",
       "      <td>...</td>\n",
       "      <td>...</td>\n",
       "      <td>...</td>\n",
       "      <td>...</td>\n",
       "      <td>...</td>\n",
       "      <td>...</td>\n",
       "      <td>...</td>\n",
       "      <td>...</td>\n",
       "    </tr>\n",
       "    <tr>\n",
       "      <th>22503</th>\n",
       "      <td>2859041</td>\n",
       "      <td>9</td>\n",
       "      <td>7</td>\n",
       "      <td>90</td>\n",
       "      <td>585</td>\n",
       "      <td>5.50</td>\n",
       "      <td>40180.00</td>\n",
       "      <td>592.87</td>\n",
       "      <td>84</td>\n",
       "      <td>843</td>\n",
       "      <td>0.3294</td>\n",
       "      <td>0.0000</td>\n",
       "      <td>1</td>\n",
       "      <td>0.0</td>\n",
       "    </tr>\n",
       "    <tr>\n",
       "      <th>22504</th>\n",
       "      <td>259490</td>\n",
       "      <td>9</td>\n",
       "      <td>1</td>\n",
       "      <td>7</td>\n",
       "      <td>780</td>\n",
       "      <td>4.50</td>\n",
       "      <td>20000.00</td>\n",
       "      <td>373.02</td>\n",
       "      <td>60</td>\n",
       "      <td>772</td>\n",
       "      <td>0.3633</td>\n",
       "      <td>0.0000</td>\n",
       "      <td>1</td>\n",
       "      <td>0.0</td>\n",
       "    </tr>\n",
       "    <tr>\n",
       "      <th>22505</th>\n",
       "      <td>1165586</td>\n",
       "      <td>5</td>\n",
       "      <td>7</td>\n",
       "      <td>13</td>\n",
       "      <td>780</td>\n",
       "      <td>3.25</td>\n",
       "      <td>18239.00</td>\n",
       "      <td>362.72</td>\n",
       "      <td>60</td>\n",
       "      <td>734</td>\n",
       "      <td>0.3455</td>\n",
       "      <td>1.0287</td>\n",
       "      <td>1</td>\n",
       "      <td>0.0</td>\n",
       "    </tr>\n",
       "    <tr>\n",
       "      <th>22506</th>\n",
       "      <td>1736283</td>\n",
       "      <td>12</td>\n",
       "      <td>4</td>\n",
       "      <td>40</td>\n",
       "      <td>570</td>\n",
       "      <td>6.75</td>\n",
       "      <td>25000.00</td>\n",
       "      <td>259.00</td>\n",
       "      <td>0</td>\n",
       "      <td>791</td>\n",
       "      <td>0.3218</td>\n",
       "      <td>0.0000</td>\n",
       "      <td>1</td>\n",
       "      <td>0.0</td>\n",
       "    </tr>\n",
       "    <tr>\n",
       "      <th>22507</th>\n",
       "      <td>2575610</td>\n",
       "      <td>9</td>\n",
       "      <td>9</td>\n",
       "      <td>91</td>\n",
       "      <td>55</td>\n",
       "      <td>6.00</td>\n",
       "      <td>32800.00</td>\n",
       "      <td>364.69</td>\n",
       "      <td>120</td>\n",
       "      <td>654</td>\n",
       "      <td>0.2996</td>\n",
       "      <td>0.0000</td>\n",
       "      <td>1</td>\n",
       "      <td>0.0</td>\n",
       "    </tr>\n",
       "  </tbody>\n",
       "</table>\n",
       "<p>16643 rows × 14 columns</p>\n",
       "</div>"
      ],
      "text/plain": [
       "         keyid  loantype  loanbranch  loanpurposecode  loanapprovalcode  \\\n",
       "0      3273200         9          16               25              1407   \n",
       "2      3054723         9          11                3               780   \n",
       "3      3111884         9           8                3               570   \n",
       "4      3122810         9           1                3               780   \n",
       "5       336724         9           5                3               166   \n",
       "...        ...       ...         ...              ...               ...   \n",
       "22503  2859041         9           7               90               585   \n",
       "22504   259490         9           1                7               780   \n",
       "22505  1165586         5           7               13               780   \n",
       "22506  1736283        12           4               40               570   \n",
       "22507  2575610         9           9               91                55   \n",
       "\n",
       "       loaninterestrate  loanoriginalbalance  loanpayment  loanpaymentcount  \\\n",
       "0                 14.50              1000.00        91.87                12   \n",
       "2                  7.00             18855.64       373.53                60   \n",
       "3                 15.50              1570.00       145.22                12   \n",
       "4                  6.00             14536.00       308.23                60   \n",
       "5                  8.25             18048.20       369.26                60   \n",
       "...                 ...                  ...          ...               ...   \n",
       "22503              5.50             40180.00       592.87                84   \n",
       "22504              4.50             20000.00       373.02                60   \n",
       "22505              3.25             18239.00       362.72                60   \n",
       "22506              6.75             25000.00       259.00                 0   \n",
       "22507              6.00             32800.00       364.69               120   \n",
       "\n",
       "       loancreditscore  debtratio  loantovalue  rbl  loanchargeoffdate  \n",
       "0                    0     0.3630       0.0000    4                1.0  \n",
       "2                  722     0.4139       0.0000    1                1.0  \n",
       "3                  571     0.3862       0.0000    5                1.0  \n",
       "4                  720     0.7634       0.0000    1                1.0  \n",
       "5                  691     0.4380       0.0000    2                1.0  \n",
       "...                ...        ...          ...  ...                ...  \n",
       "22503              843     0.3294       0.0000    1                0.0  \n",
       "22504              772     0.3633       0.0000    1                0.0  \n",
       "22505              734     0.3455       1.0287    1                0.0  \n",
       "22506              791     0.3218       0.0000    1                0.0  \n",
       "22507              654     0.2996       0.0000    1                0.0  \n",
       "\n",
       "[16643 rows x 14 columns]"
      ]
     },
     "execution_count": 158,
     "metadata": {},
     "output_type": "execute_result"
    }
   ],
   "source": [
    "# Delete rows where debtratio = 0.  debtratio believed to be significant to prediction.\n",
    "loans_df = loans_df[loans_df.debtratio != 0]\n",
    "loans_df"
   ]
  },
  {
   "cell_type": "code",
   "execution_count": 159,
   "id": "b443a5ee",
   "metadata": {},
   "outputs": [
    {
     "data": {
      "text/plain": [
       "0.0    15912\n",
       "1.0      731\n",
       "Name: loanchargeoffdate, dtype: int64"
      ]
     },
     "execution_count": 159,
     "metadata": {},
     "output_type": "execute_result"
    }
   ],
   "source": [
    "loans_df[\"loanchargeoffdate\"].value_counts()"
   ]
  },
  {
   "cell_type": "code",
   "execution_count": 160,
   "id": "fc8c107b",
   "metadata": {},
   "outputs": [
    {
     "data": {
      "text/plain": [
       "9     11192\n",
       "5      2159\n",
       "12     2136\n",
       "1       673\n",
       "11      483\n",
       "Name: loantype, dtype: int64"
      ]
     },
     "execution_count": 160,
     "metadata": {},
     "output_type": "execute_result"
    }
   ],
   "source": [
    "loans_df[\"loantype\"].value_counts()"
   ]
  },
  {
   "cell_type": "code",
   "execution_count": 161,
   "id": "a337353b",
   "metadata": {},
   "outputs": [
    {
     "data": {
      "text/html": [
       "<div>\n",
       "<style scoped>\n",
       "    .dataframe tbody tr th:only-of-type {\n",
       "        vertical-align: middle;\n",
       "    }\n",
       "\n",
       "    .dataframe tbody tr th {\n",
       "        vertical-align: top;\n",
       "    }\n",
       "\n",
       "    .dataframe thead th {\n",
       "        text-align: right;\n",
       "    }\n",
       "</style>\n",
       "<table border=\"1\" class=\"dataframe\">\n",
       "  <thead>\n",
       "    <tr style=\"text-align: right;\">\n",
       "      <th></th>\n",
       "      <th>index</th>\n",
       "      <th>loantype</th>\n",
       "    </tr>\n",
       "  </thead>\n",
       "  <tbody>\n",
       "    <tr>\n",
       "      <th>0</th>\n",
       "      <td>9</td>\n",
       "      <td>11192</td>\n",
       "    </tr>\n",
       "    <tr>\n",
       "      <th>1</th>\n",
       "      <td>5</td>\n",
       "      <td>2159</td>\n",
       "    </tr>\n",
       "    <tr>\n",
       "      <th>2</th>\n",
       "      <td>12</td>\n",
       "      <td>2136</td>\n",
       "    </tr>\n",
       "    <tr>\n",
       "      <th>3</th>\n",
       "      <td>1</td>\n",
       "      <td>673</td>\n",
       "    </tr>\n",
       "    <tr>\n",
       "      <th>4</th>\n",
       "      <td>11</td>\n",
       "      <td>483</td>\n",
       "    </tr>\n",
       "  </tbody>\n",
       "</table>\n",
       "</div>"
      ],
      "text/plain": [
       "   index  loantype\n",
       "0      9     11192\n",
       "1      5      2159\n",
       "2     12      2136\n",
       "3      1       673\n",
       "4     11       483"
      ]
     },
     "execution_count": 161,
     "metadata": {},
     "output_type": "execute_result"
    }
   ],
   "source": [
    "loantype_df = pd.DataFrame(loans_df[\"loantype\"].value_counts()).reset_index()\n",
    "loantype_df"
   ]
  },
  {
   "cell_type": "code",
   "execution_count": 162,
   "id": "ee0e68b1",
   "metadata": {},
   "outputs": [
    {
     "data": {
      "application/vnd.plotly.v1+json": {
       "config": {
        "plotlyServerURL": "https://plot.ly"
       },
       "data": [
        {
         "alignmentgroup": "True",
         "hovertemplate": "index=%{x}<br>loantype=%{y}<extra></extra>",
         "legendgroup": "",
         "marker": {
          "color": "#636efa",
          "pattern": {
           "shape": ""
          }
         },
         "name": "",
         "offsetgroup": "",
         "orientation": "v",
         "showlegend": false,
         "textposition": "auto",
         "type": "bar",
         "x": [
          9,
          5,
          12,
          1,
          11
         ],
         "xaxis": "x",
         "y": [
          11192,
          2159,
          2136,
          673,
          483
         ],
         "yaxis": "y"
        }
       ],
       "layout": {
        "barmode": "relative",
        "legend": {
         "tracegroupgap": 0
        },
        "margin": {
         "t": 60
        },
        "template": {
         "data": {
          "bar": [
           {
            "error_x": {
             "color": "#2a3f5f"
            },
            "error_y": {
             "color": "#2a3f5f"
            },
            "marker": {
             "line": {
              "color": "#E5ECF6",
              "width": 0.5
             },
             "pattern": {
              "fillmode": "overlay",
              "size": 10,
              "solidity": 0.2
             }
            },
            "type": "bar"
           }
          ],
          "barpolar": [
           {
            "marker": {
             "line": {
              "color": "#E5ECF6",
              "width": 0.5
             },
             "pattern": {
              "fillmode": "overlay",
              "size": 10,
              "solidity": 0.2
             }
            },
            "type": "barpolar"
           }
          ],
          "carpet": [
           {
            "aaxis": {
             "endlinecolor": "#2a3f5f",
             "gridcolor": "white",
             "linecolor": "white",
             "minorgridcolor": "white",
             "startlinecolor": "#2a3f5f"
            },
            "baxis": {
             "endlinecolor": "#2a3f5f",
             "gridcolor": "white",
             "linecolor": "white",
             "minorgridcolor": "white",
             "startlinecolor": "#2a3f5f"
            },
            "type": "carpet"
           }
          ],
          "choropleth": [
           {
            "colorbar": {
             "outlinewidth": 0,
             "ticks": ""
            },
            "type": "choropleth"
           }
          ],
          "contour": [
           {
            "colorbar": {
             "outlinewidth": 0,
             "ticks": ""
            },
            "colorscale": [
             [
              0,
              "#0d0887"
             ],
             [
              0.1111111111111111,
              "#46039f"
             ],
             [
              0.2222222222222222,
              "#7201a8"
             ],
             [
              0.3333333333333333,
              "#9c179e"
             ],
             [
              0.4444444444444444,
              "#bd3786"
             ],
             [
              0.5555555555555556,
              "#d8576b"
             ],
             [
              0.6666666666666666,
              "#ed7953"
             ],
             [
              0.7777777777777778,
              "#fb9f3a"
             ],
             [
              0.8888888888888888,
              "#fdca26"
             ],
             [
              1,
              "#f0f921"
             ]
            ],
            "type": "contour"
           }
          ],
          "contourcarpet": [
           {
            "colorbar": {
             "outlinewidth": 0,
             "ticks": ""
            },
            "type": "contourcarpet"
           }
          ],
          "heatmap": [
           {
            "colorbar": {
             "outlinewidth": 0,
             "ticks": ""
            },
            "colorscale": [
             [
              0,
              "#0d0887"
             ],
             [
              0.1111111111111111,
              "#46039f"
             ],
             [
              0.2222222222222222,
              "#7201a8"
             ],
             [
              0.3333333333333333,
              "#9c179e"
             ],
             [
              0.4444444444444444,
              "#bd3786"
             ],
             [
              0.5555555555555556,
              "#d8576b"
             ],
             [
              0.6666666666666666,
              "#ed7953"
             ],
             [
              0.7777777777777778,
              "#fb9f3a"
             ],
             [
              0.8888888888888888,
              "#fdca26"
             ],
             [
              1,
              "#f0f921"
             ]
            ],
            "type": "heatmap"
           }
          ],
          "heatmapgl": [
           {
            "colorbar": {
             "outlinewidth": 0,
             "ticks": ""
            },
            "colorscale": [
             [
              0,
              "#0d0887"
             ],
             [
              0.1111111111111111,
              "#46039f"
             ],
             [
              0.2222222222222222,
              "#7201a8"
             ],
             [
              0.3333333333333333,
              "#9c179e"
             ],
             [
              0.4444444444444444,
              "#bd3786"
             ],
             [
              0.5555555555555556,
              "#d8576b"
             ],
             [
              0.6666666666666666,
              "#ed7953"
             ],
             [
              0.7777777777777778,
              "#fb9f3a"
             ],
             [
              0.8888888888888888,
              "#fdca26"
             ],
             [
              1,
              "#f0f921"
             ]
            ],
            "type": "heatmapgl"
           }
          ],
          "histogram": [
           {
            "marker": {
             "pattern": {
              "fillmode": "overlay",
              "size": 10,
              "solidity": 0.2
             }
            },
            "type": "histogram"
           }
          ],
          "histogram2d": [
           {
            "colorbar": {
             "outlinewidth": 0,
             "ticks": ""
            },
            "colorscale": [
             [
              0,
              "#0d0887"
             ],
             [
              0.1111111111111111,
              "#46039f"
             ],
             [
              0.2222222222222222,
              "#7201a8"
             ],
             [
              0.3333333333333333,
              "#9c179e"
             ],
             [
              0.4444444444444444,
              "#bd3786"
             ],
             [
              0.5555555555555556,
              "#d8576b"
             ],
             [
              0.6666666666666666,
              "#ed7953"
             ],
             [
              0.7777777777777778,
              "#fb9f3a"
             ],
             [
              0.8888888888888888,
              "#fdca26"
             ],
             [
              1,
              "#f0f921"
             ]
            ],
            "type": "histogram2d"
           }
          ],
          "histogram2dcontour": [
           {
            "colorbar": {
             "outlinewidth": 0,
             "ticks": ""
            },
            "colorscale": [
             [
              0,
              "#0d0887"
             ],
             [
              0.1111111111111111,
              "#46039f"
             ],
             [
              0.2222222222222222,
              "#7201a8"
             ],
             [
              0.3333333333333333,
              "#9c179e"
             ],
             [
              0.4444444444444444,
              "#bd3786"
             ],
             [
              0.5555555555555556,
              "#d8576b"
             ],
             [
              0.6666666666666666,
              "#ed7953"
             ],
             [
              0.7777777777777778,
              "#fb9f3a"
             ],
             [
              0.8888888888888888,
              "#fdca26"
             ],
             [
              1,
              "#f0f921"
             ]
            ],
            "type": "histogram2dcontour"
           }
          ],
          "mesh3d": [
           {
            "colorbar": {
             "outlinewidth": 0,
             "ticks": ""
            },
            "type": "mesh3d"
           }
          ],
          "parcoords": [
           {
            "line": {
             "colorbar": {
              "outlinewidth": 0,
              "ticks": ""
             }
            },
            "type": "parcoords"
           }
          ],
          "pie": [
           {
            "automargin": true,
            "type": "pie"
           }
          ],
          "scatter": [
           {
            "marker": {
             "colorbar": {
              "outlinewidth": 0,
              "ticks": ""
             }
            },
            "type": "scatter"
           }
          ],
          "scatter3d": [
           {
            "line": {
             "colorbar": {
              "outlinewidth": 0,
              "ticks": ""
             }
            },
            "marker": {
             "colorbar": {
              "outlinewidth": 0,
              "ticks": ""
             }
            },
            "type": "scatter3d"
           }
          ],
          "scattercarpet": [
           {
            "marker": {
             "colorbar": {
              "outlinewidth": 0,
              "ticks": ""
             }
            },
            "type": "scattercarpet"
           }
          ],
          "scattergeo": [
           {
            "marker": {
             "colorbar": {
              "outlinewidth": 0,
              "ticks": ""
             }
            },
            "type": "scattergeo"
           }
          ],
          "scattergl": [
           {
            "marker": {
             "colorbar": {
              "outlinewidth": 0,
              "ticks": ""
             }
            },
            "type": "scattergl"
           }
          ],
          "scattermapbox": [
           {
            "marker": {
             "colorbar": {
              "outlinewidth": 0,
              "ticks": ""
             }
            },
            "type": "scattermapbox"
           }
          ],
          "scatterpolar": [
           {
            "marker": {
             "colorbar": {
              "outlinewidth": 0,
              "ticks": ""
             }
            },
            "type": "scatterpolar"
           }
          ],
          "scatterpolargl": [
           {
            "marker": {
             "colorbar": {
              "outlinewidth": 0,
              "ticks": ""
             }
            },
            "type": "scatterpolargl"
           }
          ],
          "scatterternary": [
           {
            "marker": {
             "colorbar": {
              "outlinewidth": 0,
              "ticks": ""
             }
            },
            "type": "scatterternary"
           }
          ],
          "surface": [
           {
            "colorbar": {
             "outlinewidth": 0,
             "ticks": ""
            },
            "colorscale": [
             [
              0,
              "#0d0887"
             ],
             [
              0.1111111111111111,
              "#46039f"
             ],
             [
              0.2222222222222222,
              "#7201a8"
             ],
             [
              0.3333333333333333,
              "#9c179e"
             ],
             [
              0.4444444444444444,
              "#bd3786"
             ],
             [
              0.5555555555555556,
              "#d8576b"
             ],
             [
              0.6666666666666666,
              "#ed7953"
             ],
             [
              0.7777777777777778,
              "#fb9f3a"
             ],
             [
              0.8888888888888888,
              "#fdca26"
             ],
             [
              1,
              "#f0f921"
             ]
            ],
            "type": "surface"
           }
          ],
          "table": [
           {
            "cells": {
             "fill": {
              "color": "#EBF0F8"
             },
             "line": {
              "color": "white"
             }
            },
            "header": {
             "fill": {
              "color": "#C8D4E3"
             },
             "line": {
              "color": "white"
             }
            },
            "type": "table"
           }
          ]
         },
         "layout": {
          "annotationdefaults": {
           "arrowcolor": "#2a3f5f",
           "arrowhead": 0,
           "arrowwidth": 1
          },
          "autotypenumbers": "strict",
          "coloraxis": {
           "colorbar": {
            "outlinewidth": 0,
            "ticks": ""
           }
          },
          "colorscale": {
           "diverging": [
            [
             0,
             "#8e0152"
            ],
            [
             0.1,
             "#c51b7d"
            ],
            [
             0.2,
             "#de77ae"
            ],
            [
             0.3,
             "#f1b6da"
            ],
            [
             0.4,
             "#fde0ef"
            ],
            [
             0.5,
             "#f7f7f7"
            ],
            [
             0.6,
             "#e6f5d0"
            ],
            [
             0.7,
             "#b8e186"
            ],
            [
             0.8,
             "#7fbc41"
            ],
            [
             0.9,
             "#4d9221"
            ],
            [
             1,
             "#276419"
            ]
           ],
           "sequential": [
            [
             0,
             "#0d0887"
            ],
            [
             0.1111111111111111,
             "#46039f"
            ],
            [
             0.2222222222222222,
             "#7201a8"
            ],
            [
             0.3333333333333333,
             "#9c179e"
            ],
            [
             0.4444444444444444,
             "#bd3786"
            ],
            [
             0.5555555555555556,
             "#d8576b"
            ],
            [
             0.6666666666666666,
             "#ed7953"
            ],
            [
             0.7777777777777778,
             "#fb9f3a"
            ],
            [
             0.8888888888888888,
             "#fdca26"
            ],
            [
             1,
             "#f0f921"
            ]
           ],
           "sequentialminus": [
            [
             0,
             "#0d0887"
            ],
            [
             0.1111111111111111,
             "#46039f"
            ],
            [
             0.2222222222222222,
             "#7201a8"
            ],
            [
             0.3333333333333333,
             "#9c179e"
            ],
            [
             0.4444444444444444,
             "#bd3786"
            ],
            [
             0.5555555555555556,
             "#d8576b"
            ],
            [
             0.6666666666666666,
             "#ed7953"
            ],
            [
             0.7777777777777778,
             "#fb9f3a"
            ],
            [
             0.8888888888888888,
             "#fdca26"
            ],
            [
             1,
             "#f0f921"
            ]
           ]
          },
          "colorway": [
           "#636efa",
           "#EF553B",
           "#00cc96",
           "#ab63fa",
           "#FFA15A",
           "#19d3f3",
           "#FF6692",
           "#B6E880",
           "#FF97FF",
           "#FECB52"
          ],
          "font": {
           "color": "#2a3f5f"
          },
          "geo": {
           "bgcolor": "white",
           "lakecolor": "white",
           "landcolor": "#E5ECF6",
           "showlakes": true,
           "showland": true,
           "subunitcolor": "white"
          },
          "hoverlabel": {
           "align": "left"
          },
          "hovermode": "closest",
          "mapbox": {
           "style": "light"
          },
          "paper_bgcolor": "white",
          "plot_bgcolor": "#E5ECF6",
          "polar": {
           "angularaxis": {
            "gridcolor": "white",
            "linecolor": "white",
            "ticks": ""
           },
           "bgcolor": "#E5ECF6",
           "radialaxis": {
            "gridcolor": "white",
            "linecolor": "white",
            "ticks": ""
           }
          },
          "scene": {
           "xaxis": {
            "backgroundcolor": "#E5ECF6",
            "gridcolor": "white",
            "gridwidth": 2,
            "linecolor": "white",
            "showbackground": true,
            "ticks": "",
            "zerolinecolor": "white"
           },
           "yaxis": {
            "backgroundcolor": "#E5ECF6",
            "gridcolor": "white",
            "gridwidth": 2,
            "linecolor": "white",
            "showbackground": true,
            "ticks": "",
            "zerolinecolor": "white"
           },
           "zaxis": {
            "backgroundcolor": "#E5ECF6",
            "gridcolor": "white",
            "gridwidth": 2,
            "linecolor": "white",
            "showbackground": true,
            "ticks": "",
            "zerolinecolor": "white"
           }
          },
          "shapedefaults": {
           "line": {
            "color": "#2a3f5f"
           }
          },
          "ternary": {
           "aaxis": {
            "gridcolor": "white",
            "linecolor": "white",
            "ticks": ""
           },
           "baxis": {
            "gridcolor": "white",
            "linecolor": "white",
            "ticks": ""
           },
           "bgcolor": "#E5ECF6",
           "caxis": {
            "gridcolor": "white",
            "linecolor": "white",
            "ticks": ""
           }
          },
          "title": {
           "x": 0.05
          },
          "xaxis": {
           "automargin": true,
           "gridcolor": "white",
           "linecolor": "white",
           "ticks": "",
           "title": {
            "standoff": 15
           },
           "zerolinecolor": "white",
           "zerolinewidth": 2
          },
          "yaxis": {
           "automargin": true,
           "gridcolor": "white",
           "linecolor": "white",
           "ticks": "",
           "title": {
            "standoff": 15
           },
           "zerolinecolor": "white",
           "zerolinewidth": 2
          }
         }
        },
        "xaxis": {
         "anchor": "y",
         "domain": [
          0,
          1
         ],
         "title": {
          "text": "index"
         }
        },
        "yaxis": {
         "anchor": "x",
         "domain": [
          0,
          1
         ],
         "title": {
          "text": "loantype"
         }
        }
       }
      },
      "text/html": [
       "<div>                            <div id=\"1361614e-dfd6-484d-b5ea-798b7420e4ee\" class=\"plotly-graph-div\" style=\"height:525px; width:100%;\"></div>            <script type=\"text/javascript\">                require([\"plotly\"], function(Plotly) {                    window.PLOTLYENV=window.PLOTLYENV || {};                                    if (document.getElementById(\"1361614e-dfd6-484d-b5ea-798b7420e4ee\")) {                    Plotly.newPlot(                        \"1361614e-dfd6-484d-b5ea-798b7420e4ee\",                        [{\"alignmentgroup\":\"True\",\"hovertemplate\":\"index=%{x}<br>loantype=%{y}<extra></extra>\",\"legendgroup\":\"\",\"marker\":{\"color\":\"#636efa\",\"pattern\":{\"shape\":\"\"}},\"name\":\"\",\"offsetgroup\":\"\",\"orientation\":\"v\",\"showlegend\":false,\"textposition\":\"auto\",\"type\":\"bar\",\"x\":[9,5,12,1,11],\"xaxis\":\"x\",\"y\":[11192,2159,2136,673,483],\"yaxis\":\"y\"}],                        {\"barmode\":\"relative\",\"legend\":{\"tracegroupgap\":0},\"margin\":{\"t\":60},\"template\":{\"data\":{\"bar\":[{\"error_x\":{\"color\":\"#2a3f5f\"},\"error_y\":{\"color\":\"#2a3f5f\"},\"marker\":{\"line\":{\"color\":\"#E5ECF6\",\"width\":0.5},\"pattern\":{\"fillmode\":\"overlay\",\"size\":10,\"solidity\":0.2}},\"type\":\"bar\"}],\"barpolar\":[{\"marker\":{\"line\":{\"color\":\"#E5ECF6\",\"width\":0.5},\"pattern\":{\"fillmode\":\"overlay\",\"size\":10,\"solidity\":0.2}},\"type\":\"barpolar\"}],\"carpet\":[{\"aaxis\":{\"endlinecolor\":\"#2a3f5f\",\"gridcolor\":\"white\",\"linecolor\":\"white\",\"minorgridcolor\":\"white\",\"startlinecolor\":\"#2a3f5f\"},\"baxis\":{\"endlinecolor\":\"#2a3f5f\",\"gridcolor\":\"white\",\"linecolor\":\"white\",\"minorgridcolor\":\"white\",\"startlinecolor\":\"#2a3f5f\"},\"type\":\"carpet\"}],\"choropleth\":[{\"colorbar\":{\"outlinewidth\":0,\"ticks\":\"\"},\"type\":\"choropleth\"}],\"contour\":[{\"colorbar\":{\"outlinewidth\":0,\"ticks\":\"\"},\"colorscale\":[[0.0,\"#0d0887\"],[0.1111111111111111,\"#46039f\"],[0.2222222222222222,\"#7201a8\"],[0.3333333333333333,\"#9c179e\"],[0.4444444444444444,\"#bd3786\"],[0.5555555555555556,\"#d8576b\"],[0.6666666666666666,\"#ed7953\"],[0.7777777777777778,\"#fb9f3a\"],[0.8888888888888888,\"#fdca26\"],[1.0,\"#f0f921\"]],\"type\":\"contour\"}],\"contourcarpet\":[{\"colorbar\":{\"outlinewidth\":0,\"ticks\":\"\"},\"type\":\"contourcarpet\"}],\"heatmap\":[{\"colorbar\":{\"outlinewidth\":0,\"ticks\":\"\"},\"colorscale\":[[0.0,\"#0d0887\"],[0.1111111111111111,\"#46039f\"],[0.2222222222222222,\"#7201a8\"],[0.3333333333333333,\"#9c179e\"],[0.4444444444444444,\"#bd3786\"],[0.5555555555555556,\"#d8576b\"],[0.6666666666666666,\"#ed7953\"],[0.7777777777777778,\"#fb9f3a\"],[0.8888888888888888,\"#fdca26\"],[1.0,\"#f0f921\"]],\"type\":\"heatmap\"}],\"heatmapgl\":[{\"colorbar\":{\"outlinewidth\":0,\"ticks\":\"\"},\"colorscale\":[[0.0,\"#0d0887\"],[0.1111111111111111,\"#46039f\"],[0.2222222222222222,\"#7201a8\"],[0.3333333333333333,\"#9c179e\"],[0.4444444444444444,\"#bd3786\"],[0.5555555555555556,\"#d8576b\"],[0.6666666666666666,\"#ed7953\"],[0.7777777777777778,\"#fb9f3a\"],[0.8888888888888888,\"#fdca26\"],[1.0,\"#f0f921\"]],\"type\":\"heatmapgl\"}],\"histogram\":[{\"marker\":{\"pattern\":{\"fillmode\":\"overlay\",\"size\":10,\"solidity\":0.2}},\"type\":\"histogram\"}],\"histogram2d\":[{\"colorbar\":{\"outlinewidth\":0,\"ticks\":\"\"},\"colorscale\":[[0.0,\"#0d0887\"],[0.1111111111111111,\"#46039f\"],[0.2222222222222222,\"#7201a8\"],[0.3333333333333333,\"#9c179e\"],[0.4444444444444444,\"#bd3786\"],[0.5555555555555556,\"#d8576b\"],[0.6666666666666666,\"#ed7953\"],[0.7777777777777778,\"#fb9f3a\"],[0.8888888888888888,\"#fdca26\"],[1.0,\"#f0f921\"]],\"type\":\"histogram2d\"}],\"histogram2dcontour\":[{\"colorbar\":{\"outlinewidth\":0,\"ticks\":\"\"},\"colorscale\":[[0.0,\"#0d0887\"],[0.1111111111111111,\"#46039f\"],[0.2222222222222222,\"#7201a8\"],[0.3333333333333333,\"#9c179e\"],[0.4444444444444444,\"#bd3786\"],[0.5555555555555556,\"#d8576b\"],[0.6666666666666666,\"#ed7953\"],[0.7777777777777778,\"#fb9f3a\"],[0.8888888888888888,\"#fdca26\"],[1.0,\"#f0f921\"]],\"type\":\"histogram2dcontour\"}],\"mesh3d\":[{\"colorbar\":{\"outlinewidth\":0,\"ticks\":\"\"},\"type\":\"mesh3d\"}],\"parcoords\":[{\"line\":{\"colorbar\":{\"outlinewidth\":0,\"ticks\":\"\"}},\"type\":\"parcoords\"}],\"pie\":[{\"automargin\":true,\"type\":\"pie\"}],\"scatter\":[{\"marker\":{\"colorbar\":{\"outlinewidth\":0,\"ticks\":\"\"}},\"type\":\"scatter\"}],\"scatter3d\":[{\"line\":{\"colorbar\":{\"outlinewidth\":0,\"ticks\":\"\"}},\"marker\":{\"colorbar\":{\"outlinewidth\":0,\"ticks\":\"\"}},\"type\":\"scatter3d\"}],\"scattercarpet\":[{\"marker\":{\"colorbar\":{\"outlinewidth\":0,\"ticks\":\"\"}},\"type\":\"scattercarpet\"}],\"scattergeo\":[{\"marker\":{\"colorbar\":{\"outlinewidth\":0,\"ticks\":\"\"}},\"type\":\"scattergeo\"}],\"scattergl\":[{\"marker\":{\"colorbar\":{\"outlinewidth\":0,\"ticks\":\"\"}},\"type\":\"scattergl\"}],\"scattermapbox\":[{\"marker\":{\"colorbar\":{\"outlinewidth\":0,\"ticks\":\"\"}},\"type\":\"scattermapbox\"}],\"scatterpolar\":[{\"marker\":{\"colorbar\":{\"outlinewidth\":0,\"ticks\":\"\"}},\"type\":\"scatterpolar\"}],\"scatterpolargl\":[{\"marker\":{\"colorbar\":{\"outlinewidth\":0,\"ticks\":\"\"}},\"type\":\"scatterpolargl\"}],\"scatterternary\":[{\"marker\":{\"colorbar\":{\"outlinewidth\":0,\"ticks\":\"\"}},\"type\":\"scatterternary\"}],\"surface\":[{\"colorbar\":{\"outlinewidth\":0,\"ticks\":\"\"},\"colorscale\":[[0.0,\"#0d0887\"],[0.1111111111111111,\"#46039f\"],[0.2222222222222222,\"#7201a8\"],[0.3333333333333333,\"#9c179e\"],[0.4444444444444444,\"#bd3786\"],[0.5555555555555556,\"#d8576b\"],[0.6666666666666666,\"#ed7953\"],[0.7777777777777778,\"#fb9f3a\"],[0.8888888888888888,\"#fdca26\"],[1.0,\"#f0f921\"]],\"type\":\"surface\"}],\"table\":[{\"cells\":{\"fill\":{\"color\":\"#EBF0F8\"},\"line\":{\"color\":\"white\"}},\"header\":{\"fill\":{\"color\":\"#C8D4E3\"},\"line\":{\"color\":\"white\"}},\"type\":\"table\"}]},\"layout\":{\"annotationdefaults\":{\"arrowcolor\":\"#2a3f5f\",\"arrowhead\":0,\"arrowwidth\":1},\"autotypenumbers\":\"strict\",\"coloraxis\":{\"colorbar\":{\"outlinewidth\":0,\"ticks\":\"\"}},\"colorscale\":{\"diverging\":[[0,\"#8e0152\"],[0.1,\"#c51b7d\"],[0.2,\"#de77ae\"],[0.3,\"#f1b6da\"],[0.4,\"#fde0ef\"],[0.5,\"#f7f7f7\"],[0.6,\"#e6f5d0\"],[0.7,\"#b8e186\"],[0.8,\"#7fbc41\"],[0.9,\"#4d9221\"],[1,\"#276419\"]],\"sequential\":[[0.0,\"#0d0887\"],[0.1111111111111111,\"#46039f\"],[0.2222222222222222,\"#7201a8\"],[0.3333333333333333,\"#9c179e\"],[0.4444444444444444,\"#bd3786\"],[0.5555555555555556,\"#d8576b\"],[0.6666666666666666,\"#ed7953\"],[0.7777777777777778,\"#fb9f3a\"],[0.8888888888888888,\"#fdca26\"],[1.0,\"#f0f921\"]],\"sequentialminus\":[[0.0,\"#0d0887\"],[0.1111111111111111,\"#46039f\"],[0.2222222222222222,\"#7201a8\"],[0.3333333333333333,\"#9c179e\"],[0.4444444444444444,\"#bd3786\"],[0.5555555555555556,\"#d8576b\"],[0.6666666666666666,\"#ed7953\"],[0.7777777777777778,\"#fb9f3a\"],[0.8888888888888888,\"#fdca26\"],[1.0,\"#f0f921\"]]},\"colorway\":[\"#636efa\",\"#EF553B\",\"#00cc96\",\"#ab63fa\",\"#FFA15A\",\"#19d3f3\",\"#FF6692\",\"#B6E880\",\"#FF97FF\",\"#FECB52\"],\"font\":{\"color\":\"#2a3f5f\"},\"geo\":{\"bgcolor\":\"white\",\"lakecolor\":\"white\",\"landcolor\":\"#E5ECF6\",\"showlakes\":true,\"showland\":true,\"subunitcolor\":\"white\"},\"hoverlabel\":{\"align\":\"left\"},\"hovermode\":\"closest\",\"mapbox\":{\"style\":\"light\"},\"paper_bgcolor\":\"white\",\"plot_bgcolor\":\"#E5ECF6\",\"polar\":{\"angularaxis\":{\"gridcolor\":\"white\",\"linecolor\":\"white\",\"ticks\":\"\"},\"bgcolor\":\"#E5ECF6\",\"radialaxis\":{\"gridcolor\":\"white\",\"linecolor\":\"white\",\"ticks\":\"\"}},\"scene\":{\"xaxis\":{\"backgroundcolor\":\"#E5ECF6\",\"gridcolor\":\"white\",\"gridwidth\":2,\"linecolor\":\"white\",\"showbackground\":true,\"ticks\":\"\",\"zerolinecolor\":\"white\"},\"yaxis\":{\"backgroundcolor\":\"#E5ECF6\",\"gridcolor\":\"white\",\"gridwidth\":2,\"linecolor\":\"white\",\"showbackground\":true,\"ticks\":\"\",\"zerolinecolor\":\"white\"},\"zaxis\":{\"backgroundcolor\":\"#E5ECF6\",\"gridcolor\":\"white\",\"gridwidth\":2,\"linecolor\":\"white\",\"showbackground\":true,\"ticks\":\"\",\"zerolinecolor\":\"white\"}},\"shapedefaults\":{\"line\":{\"color\":\"#2a3f5f\"}},\"ternary\":{\"aaxis\":{\"gridcolor\":\"white\",\"linecolor\":\"white\",\"ticks\":\"\"},\"baxis\":{\"gridcolor\":\"white\",\"linecolor\":\"white\",\"ticks\":\"\"},\"bgcolor\":\"#E5ECF6\",\"caxis\":{\"gridcolor\":\"white\",\"linecolor\":\"white\",\"ticks\":\"\"}},\"title\":{\"x\":0.05},\"xaxis\":{\"automargin\":true,\"gridcolor\":\"white\",\"linecolor\":\"white\",\"ticks\":\"\",\"title\":{\"standoff\":15},\"zerolinecolor\":\"white\",\"zerolinewidth\":2},\"yaxis\":{\"automargin\":true,\"gridcolor\":\"white\",\"linecolor\":\"white\",\"ticks\":\"\",\"title\":{\"standoff\":15},\"zerolinecolor\":\"white\",\"zerolinewidth\":2}}},\"xaxis\":{\"anchor\":\"y\",\"domain\":[0.0,1.0],\"title\":{\"text\":\"index\"}},\"yaxis\":{\"anchor\":\"x\",\"domain\":[0.0,1.0],\"title\":{\"text\":\"loantype\"}}},                        {\"responsive\": true}                    ).then(function(){\n",
       "                            \n",
       "var gd = document.getElementById('1361614e-dfd6-484d-b5ea-798b7420e4ee');\n",
       "var x = new MutationObserver(function (mutations, observer) {{\n",
       "        var display = window.getComputedStyle(gd).display;\n",
       "        if (!display || display === 'none') {{\n",
       "            console.log([gd, 'removed!']);\n",
       "            Plotly.purge(gd);\n",
       "            observer.disconnect();\n",
       "        }}\n",
       "}});\n",
       "\n",
       "// Listen for the removal of the full notebook cells\n",
       "var notebookContainer = gd.closest('#notebook-container');\n",
       "if (notebookContainer) {{\n",
       "    x.observe(notebookContainer, {childList: true});\n",
       "}}\n",
       "\n",
       "// Listen for the clearing of the current output cell\n",
       "var outputEl = gd.closest('.output');\n",
       "if (outputEl) {{\n",
       "    x.observe(outputEl, {childList: true});\n",
       "}}\n",
       "\n",
       "                        })                };                });            </script>        </div>"
      ]
     },
     "metadata": {},
     "output_type": "display_data"
    }
   ],
   "source": [
    "import plotly.express as px\n",
    "\n",
    "fig = px.bar(loantype_df, x='index', y='loantype')\n",
    "fig.show()"
   ]
  },
  {
   "cell_type": "markdown",
   "id": "4043f5bf",
   "metadata": {},
   "source": [
    "# Bin"
   ]
  },
  {
   "cell_type": "code",
   "execution_count": 163,
   "id": "327ccac6",
   "metadata": {},
   "outputs": [
    {
     "data": {
      "text/plain": [
       "3      5081\n",
       "25     3699\n",
       "40     2130\n",
       "13     1540\n",
       "2      1012\n",
       "       ... \n",
       "94        1\n",
       "174       1\n",
       "915       1\n",
       "162       1\n",
       "161       1\n",
       "Name: loanpurposecode, Length: 81, dtype: int64"
      ]
     },
     "execution_count": 163,
     "metadata": {},
     "output_type": "execute_result"
    }
   ],
   "source": [
    "# Loan Purpose Code\n",
    "loanpurposecode_cts = loans_df[\"loanpurposecode\"].value_counts()\n",
    "loanpurposecode_cts"
   ]
  },
  {
   "cell_type": "code",
   "execution_count": 164,
   "id": "f8af2cf1",
   "metadata": {},
   "outputs": [
    {
     "data": {
      "text/plain": [
       "<AxesSubplot:ylabel='Density'>"
      ]
     },
     "execution_count": 164,
     "metadata": {},
     "output_type": "execute_result"
    },
    {
     "data": {
      "image/png": "[encoded data removed]",
      "text/plain": [
       "<Figure size 432x288 with 1 Axes>"
      ]
     },
     "metadata": {
      "needs_background": "light"
     },
     "output_type": "display_data"
    }
   ],
   "source": [
    "# Visualize the value counts of loanapprovalcode\n",
    "loanpurposecode_cts.plot.density()"
   ]
  },
  {
   "cell_type": "code",
   "execution_count": 165,
   "id": "a3de87bd",
   "metadata": {},
   "outputs": [
    {
     "data": {
      "text/plain": [
       "3       5081\n",
       "25      3699\n",
       "40      2130\n",
       "13      1540\n",
       "9999    1296\n",
       "2       1012\n",
       "23       681\n",
       "43       470\n",
       "14       413\n",
       "17       321\n",
       "Name: loanpurposecode, dtype: int64"
      ]
     },
     "execution_count": 165,
     "metadata": {},
     "output_type": "execute_result"
    }
   ],
   "source": [
    "# Bin loans_df.loanpurposecode_cts < 275\n",
    "replace_loanpurposecode = list(loanpurposecode_cts[loanpurposecode_cts < 275].index)\n",
    "\n",
    "# Replace in dataframe\n",
    "for loan in replace_loanpurposecode:\n",
    "    loans_df.loanpurposecode = loans_df.loanpurposecode.replace(loan,9999)\n",
    "    \n",
    "# Verify binning was successful\n",
    "loans_df.loanpurposecode.value_counts()"
   ]
  },
  {
   "cell_type": "code",
   "execution_count": null,
   "id": "7f2b69be",
   "metadata": {},
   "outputs": [],
   "source": []
  },
  {
   "cell_type": "code",
   "execution_count": 166,
   "id": "832746fc",
   "metadata": {},
   "outputs": [
    {
     "data": {
      "text/plain": [
       "780     5253\n",
       "1437    3090\n",
       "585     1801\n",
       "570     1214\n",
       "47       993\n",
       "1017     769\n",
       "55       747\n",
       "1407     703\n",
       "1916     687\n",
       "166      346\n",
       "1176     336\n",
       "1090     270\n",
       "1462     179\n",
       "341      113\n",
       "241       90\n",
       "61        22\n",
       "426       12\n",
       "1841       4\n",
       "1795       3\n",
       "201        2\n",
       "284        1\n",
       "20         1\n",
       "1098       1\n",
       "1770       1\n",
       "775        1\n",
       "84         1\n",
       "1044       1\n",
       "24         1\n",
       "0          1\n",
       "Name: loanapprovalcode, dtype: int64"
      ]
     },
     "execution_count": 166,
     "metadata": {},
     "output_type": "execute_result"
    }
   ],
   "source": [
    "# Loan Approval Code\n",
    "loanapprovalcode_cts = loans_df[\"loanapprovalcode\"].value_counts()\n",
    "loanapprovalcode_cts"
   ]
  },
  {
   "cell_type": "code",
   "execution_count": 167,
   "id": "8a9c4d45",
   "metadata": {},
   "outputs": [
    {
     "data": {
      "text/plain": [
       "780     5253\n",
       "1437    3090\n",
       "585     1801\n",
       "570     1214\n",
       "47       993\n",
       "1017     769\n",
       "55       747\n",
       "1407     703\n",
       "1916     687\n",
       "166      346\n",
       "1176     336\n",
       "1090     270\n",
       "1462     179\n",
       "9999     142\n",
       "341      113\n",
       "Name: loanapprovalcode, dtype: int64"
      ]
     },
     "execution_count": 167,
     "metadata": {},
     "output_type": "execute_result"
    }
   ],
   "source": [
    "# Bin loans_df.loanapprovalcode < 100\n",
    "replace_loanapprovalcode = list(loanapprovalcode_cts[loanapprovalcode_cts < 100].index)\n",
    "\n",
    "# Replace in dataframe\n",
    "for loan in replace_loanapprovalcode:\n",
    "    loans_df.loanapprovalcode = loans_df.loanapprovalcode.replace(loan,9999)\n",
    "    \n",
    "# Verify binning was successful\n",
    "loans_df.loanapprovalcode.value_counts()"
   ]
  },
  {
   "cell_type": "code",
   "execution_count": 168,
   "id": "fd65530b",
   "metadata": {},
   "outputs": [
    {
     "data": {
      "text/plain": [
       "keyid                    int64\n",
       "loantype                 int64\n",
       "loanbranch               int64\n",
       "loanpurposecode          int64\n",
       "loanapprovalcode         int64\n",
       "loaninterestrate       float64\n",
       "loanoriginalbalance    float64\n",
       "loanpayment            float64\n",
       "loanpaymentcount         int64\n",
       "loancreditscore          int64\n",
       "debtratio              float64\n",
       "loantovalue            float64\n",
       "rbl                      int64\n",
       "loanchargeoffdate      float64\n",
       "dtype: object"
      ]
     },
     "execution_count": 168,
     "metadata": {},
     "output_type": "execute_result"
    }
   ],
   "source": [
    "loans_df.dtypes"
   ]
  },
  {
   "cell_type": "code",
   "execution_count": 169,
   "id": "8e3068fa",
   "metadata": {},
   "outputs": [
    {
     "data": {
      "text/plain": [
       "<AxesSubplot:ylabel='Density'>"
      ]
     },
     "execution_count": 169,
     "metadata": {},
     "output_type": "execute_result"
    },
    {
     "data": {
      "image/png": "[encoded data removed]",
      "text/plain": [
       "<Figure size 432x288 with 1 Axes>"
      ]
     },
     "metadata": {
      "needs_background": "light"
     },
     "output_type": "display_data"
    }
   ],
   "source": [
    "# Visualize the value counts of loanapprovalcode\n",
    "loanapprovalcode_cts.plot.density()"
   ]
  },
  {
   "cell_type": "code",
   "execution_count": null,
   "id": "d133b45e",
   "metadata": {},
   "outputs": [],
   "source": []
  },
  {
   "cell_type": "code",
   "execution_count": 170,
   "id": "c5d42b1d",
   "metadata": {},
   "outputs": [
    {
     "data": {
      "text/plain": [
       "['keyid',\n",
       " 'loantype',\n",
       " 'loanbranch',\n",
       " 'loanpurposecode',\n",
       " 'loanapprovalcode',\n",
       " 'loaninterestrate',\n",
       " 'loanoriginalbalance',\n",
       " 'loanpayment',\n",
       " 'loanpaymentcount',\n",
       " 'loancreditscore',\n",
       " 'debtratio',\n",
       " 'loantovalue',\n",
       " 'rbl',\n",
       " 'loanchargeoffdate']"
      ]
     },
     "execution_count": 170,
     "metadata": {},
     "output_type": "execute_result"
    }
   ],
   "source": [
    "loans_df.columns.tolist()"
   ]
  },
  {
   "cell_type": "code",
   "execution_count": null,
   "id": "725b7a3c",
   "metadata": {},
   "outputs": [],
   "source": [
    "# Scale"
   ]
  },
  {
   "cell_type": "code",
   "execution_count": null,
   "id": "330d53fb",
   "metadata": {},
   "outputs": [],
   "source": []
  },
  {
   "cell_type": "code",
   "execution_count": 171,
   "id": "984470f6",
   "metadata": {},
   "outputs": [
    {
     "data": {
      "text/plain": [
       "keyid                    int64\n",
       "loantype                 int64\n",
       "loanbranch               int64\n",
       "loanpurposecode          int64\n",
       "loanapprovalcode         int64\n",
       "loaninterestrate       float64\n",
       "loanoriginalbalance    float64\n",
       "loanpayment            float64\n",
       "loanpaymentcount         int64\n",
       "loancreditscore          int64\n",
       "debtratio              float64\n",
       "loantovalue            float64\n",
       "rbl                      int64\n",
       "loanchargeoffdate      float64\n",
       "dtype: object"
      ]
     },
     "execution_count": 171,
     "metadata": {},
     "output_type": "execute_result"
    }
   ],
   "source": [
    "loans_df.dtypes"
   ]
  },
  {
   "cell_type": "markdown",
   "id": "59487fc3",
   "metadata": {},
   "source": [
    "## Split the Data into Training and Testing"
   ]
  },
  {
   "cell_type": "code",
   "execution_count": 145,
   "id": "392363f9",
   "metadata": {},
   "outputs": [],
   "source": [
    "X = loans_df[['loantype',\n",
    "             'loanbranch',\n",
    "             'loanpurposecode',\n",
    "             'loanapprovalcode',\n",
    "             'loaninterestrate',\n",
    "             'loanoriginalbalance',\n",
    "             'loanpayment',\n",
    "             'loanpaymentcount',\n",
    "             'loancreditscore',\n",
    "             'debtratio',\n",
    "             'loantovalue',\n",
    "             'rbl']]\n",
    "y = loans_df[\"loanchargeoffdate\"]"
   ]
  },
  {
   "cell_type": "code",
   "execution_count": 146,
   "id": "8b325d62",
   "metadata": {},
   "outputs": [],
   "source": [
    "X_train, X_test, y_train, y_test = train_test_split(X, y, train_size=0.8, random_state=1)\n",
    "scaler = StandardScaler().fit(X_train)"
   ]
  },
  {
   "cell_type": "code",
   "execution_count": 147,
   "id": "5f1a5bcd",
   "metadata": {},
   "outputs": [],
   "source": [
    "X_train_scaled = scaler.transform(X_train)\n",
    "X_test_scaled = scaler.transform(X_test)"
   ]
  },
  {
   "cell_type": "code",
   "execution_count": 148,
   "id": "15c91c4f",
   "metadata": {},
   "outputs": [
    {
     "data": {
      "text/plain": [
       "LogisticRegression()"
      ]
     },
     "execution_count": 148,
     "metadata": {},
     "output_type": "execute_result"
    }
   ],
   "source": [
    "from sklearn.linear_model import LogisticRegression\n",
    "classifier = LogisticRegression()\n",
    "classifier"
   ]
  },
  {
   "cell_type": "code",
   "execution_count": 149,
   "id": "7458b1a4",
   "metadata": {},
   "outputs": [
    {
     "data": {
      "text/plain": [
       "LogisticRegression()"
      ]
     },
     "execution_count": 149,
     "metadata": {},
     "output_type": "execute_result"
    }
   ],
   "source": [
    "classifier.fit(X_train_scaled, y_train)"
   ]
  },
  {
   "cell_type": "code",
   "execution_count": 150,
   "id": "0ed67894",
   "metadata": {},
   "outputs": [
    {
     "name": "stdout",
     "output_type": "stream",
     "text": [
      "Training Data Score: 0.9566621601321916\n",
      "Testing Data Score: 0.9534394713127066\n"
     ]
    }
   ],
   "source": [
    "print(f\"Training Data Score: {classifier.score(X_train_scaled, y_train)}\")\n",
    "print(f\"Testing Data Score: {classifier.score(X_test_scaled, y_test)}\")"
   ]
  },
  {
   "cell_type": "code",
   "execution_count": 152,
   "id": "395c611b",
   "metadata": {},
   "outputs": [
    {
     "ename": "AttributeError",
     "evalue": "'DataFrame' object has no attribute 'feature_importances_'",
     "output_type": "error",
     "traceback": [
      "\u001b[1;31m---------------------------------------------------------------------------\u001b[0m",
      "\u001b[1;31mAttributeError\u001b[0m                            Traceback (most recent call last)",
      "\u001b[1;32m~\\AppData\\Local\\Temp/ipykernel_6708/3573503877.py\u001b[0m in \u001b[0;36m<module>\u001b[1;34m\u001b[0m\n\u001b[0;32m      1\u001b[0m \u001b[1;31m# List the features sorted in descending order by feature importance\u001b[0m\u001b[1;33m\u001b[0m\u001b[1;33m\u001b[0m\u001b[1;33m\u001b[0m\u001b[0m\n\u001b[0;32m      2\u001b[0m \u001b[1;33m\u001b[0m\u001b[0m\n\u001b[1;32m----> 3\u001b[1;33m \u001b[0msorted\u001b[0m\u001b[1;33m(\u001b[0m\u001b[0mzip\u001b[0m\u001b[1;33m(\u001b[0m\u001b[0mloans_df\u001b[0m\u001b[1;33m.\u001b[0m\u001b[0mfeature_importances_\u001b[0m\u001b[1;33m,\u001b[0m \u001b[0mX_columns\u001b[0m\u001b[1;33m)\u001b[0m\u001b[1;33m,\u001b[0m \u001b[0mreverse\u001b[0m\u001b[1;33m=\u001b[0m\u001b[1;32mTrue\u001b[0m\u001b[1;33m)\u001b[0m\u001b[1;33m\u001b[0m\u001b[1;33m\u001b[0m\u001b[0m\n\u001b[0m",
      "\u001b[1;32m~\\anaconda3\\envs\\mlenv\\lib\\site-packages\\pandas\\core\\generic.py\u001b[0m in \u001b[0;36m__getattr__\u001b[1;34m(self, name)\u001b[0m\n\u001b[0;32m   5463\u001b[0m             \u001b[1;32mif\u001b[0m \u001b[0mself\u001b[0m\u001b[1;33m.\u001b[0m\u001b[0m_info_axis\u001b[0m\u001b[1;33m.\u001b[0m\u001b[0m_can_hold_identifiers_and_holds_name\u001b[0m\u001b[1;33m(\u001b[0m\u001b[0mname\u001b[0m\u001b[1;33m)\u001b[0m\u001b[1;33m:\u001b[0m\u001b[1;33m\u001b[0m\u001b[1;33m\u001b[0m\u001b[0m\n\u001b[0;32m   5464\u001b[0m                 \u001b[1;32mreturn\u001b[0m \u001b[0mself\u001b[0m\u001b[1;33m[\u001b[0m\u001b[0mname\u001b[0m\u001b[1;33m]\u001b[0m\u001b[1;33m\u001b[0m\u001b[1;33m\u001b[0m\u001b[0m\n\u001b[1;32m-> 5465\u001b[1;33m             \u001b[1;32mreturn\u001b[0m \u001b[0mobject\u001b[0m\u001b[1;33m.\u001b[0m\u001b[0m__getattribute__\u001b[0m\u001b[1;33m(\u001b[0m\u001b[0mself\u001b[0m\u001b[1;33m,\u001b[0m \u001b[0mname\u001b[0m\u001b[1;33m)\u001b[0m\u001b[1;33m\u001b[0m\u001b[1;33m\u001b[0m\u001b[0m\n\u001b[0m\u001b[0;32m   5466\u001b[0m \u001b[1;33m\u001b[0m\u001b[0m\n\u001b[0;32m   5467\u001b[0m     \u001b[1;32mdef\u001b[0m \u001b[0m__setattr__\u001b[0m\u001b[1;33m(\u001b[0m\u001b[0mself\u001b[0m\u001b[1;33m,\u001b[0m \u001b[0mname\u001b[0m\u001b[1;33m:\u001b[0m \u001b[0mstr\u001b[0m\u001b[1;33m,\u001b[0m \u001b[0mvalue\u001b[0m\u001b[1;33m)\u001b[0m \u001b[1;33m->\u001b[0m \u001b[1;32mNone\u001b[0m\u001b[1;33m:\u001b[0m\u001b[1;33m\u001b[0m\u001b[1;33m\u001b[0m\u001b[0m\n",
      "\u001b[1;31mAttributeError\u001b[0m: 'DataFrame' object has no attribute 'feature_importances_'"
     ]
    }
   ],
   "source": [
    "# List the features sorted in descending order by feature importance\n",
    "\n",
    "sorted(zip(loans_df.feature_importances_, X.columns), reverse=True)"
   ]
  },
  {
   "cell_type": "code",
   "execution_count": null,
   "id": "42d8e59a",
   "metadata": {},
   "outputs": [],
   "source": []
  },
  {
   "cell_type": "code",
   "execution_count": null,
   "id": "8c5181ed",
   "metadata": {},
   "outputs": [],
   "source": []
  },
  {
   "cell_type": "code",
   "execution_count": 172,
   "id": "9875dcf0",
   "metadata": {},
   "outputs": [],
   "source": [
    "# Resample the training data with the BalancedRandomForestClassifier\n",
    "# YOUR CODE HERE\n",
    "# Create a random forest classifier.\n",
    "loan_model = BalancedRandomForestClassifier(n_estimators=128, random_state=1) \n",
    "\n",
    "# Fitting the model\n",
    "loan_model = loan_model.fit(X_train, y_train)\n",
    "\n",
    "# Making predictions using the testing data.\n",
    "predictions = loan_model.predict(X_test)\n"
   ]
  },
  {
   "cell_type": "code",
   "execution_count": 173,
   "id": "75ae8172",
   "metadata": {},
   "outputs": [
    {
     "data": {
      "text/plain": [
       "array([0., 0., 0., ..., 0., 1., 0.])"
      ]
     },
     "execution_count": 173,
     "metadata": {},
     "output_type": "execute_result"
    }
   ],
   "source": [
    "predictions"
   ]
  },
  {
   "cell_type": "code",
   "execution_count": 174,
   "id": "de12fde1",
   "metadata": {},
   "outputs": [
    {
     "data": {
      "text/plain": [
       "0.6538986117039657"
      ]
     },
     "execution_count": 174,
     "metadata": {},
     "output_type": "execute_result"
    }
   ],
   "source": [
    "# Calculated the balanced accuracy score\n",
    "# YOUR CODE HERE\n",
    "from sklearn.metrics import balanced_accuracy_score\n",
    "\n",
    "balanced_accuracy_score(y_test, predictions)"
   ]
  },
  {
   "cell_type": "code",
   "execution_count": 175,
   "id": "353df603",
   "metadata": {},
   "outputs": [
    {
     "data": {
      "text/plain": [
       "array([[1837, 1337],\n",
       "       [  42,  113]], dtype=int64)"
      ]
     },
     "execution_count": 175,
     "metadata": {},
     "output_type": "execute_result"
    }
   ],
   "source": [
    "# Display the confusion matrix\n",
    "# YOUR CODE HERE\n",
    "from sklearn.metrics import confusion_matrix\n",
    "\n",
    "predictions = loan_model.predict(X_test)\n",
    "confusion_matrix(y_test, predictions)"
   ]
  },
  {
   "cell_type": "code",
   "execution_count": 176,
   "id": "4dc4e43d",
   "metadata": {},
   "outputs": [
    {
     "name": "stdout",
     "output_type": "stream",
     "text": [
      "                   pre       rec       spe        f1       geo       iba       sup\n",
      "\n",
      "        0.0       0.98      0.58      0.73      0.73      0.65      0.42      3174\n",
      "        1.0       0.08      0.73      0.58      0.14      0.65      0.43       155\n",
      "\n",
      "avg / total       0.94      0.59      0.72      0.70      0.65      0.42      3329\n",
      "\n"
     ]
    }
   ],
   "source": [
    "# Print the imbalanced classification report\n",
    "# YOUR CODE HERE\n",
    "from imblearn.metrics import classification_report_imbalanced\n",
    "print(classification_report_imbalanced(y_test, predictions))"
   ]
  },
  {
   "cell_type": "code",
   "execution_count": 177,
   "id": "83fd9a03",
   "metadata": {},
   "outputs": [
    {
     "data": {
      "text/plain": [
       "[(0.17696072170044166, 'loancreditscore'),\n",
       " (0.14032748142461587, 'debtratio'),\n",
       " (0.13254811424319413, 'loanpayment'),\n",
       " (0.11574658996972959, 'loaninterestrate'),\n",
       " (0.11180387489698716, 'loanoriginalbalance'),\n",
       " (0.08857688296817992, 'loanbranch'),\n",
       " (0.06937764149421974, 'loanapprovalcode'),\n",
       " (0.04563046981714756, 'loanpurposecode'),\n",
       " (0.04170070950811137, 'loanpaymentcount'),\n",
       " (0.040942358719832754, 'rbl'),\n",
       " (0.01994724647956655, 'loantovalue'),\n",
       " (0.01643790877797385, 'loantype')]"
      ]
     },
     "execution_count": 177,
     "metadata": {},
     "output_type": "execute_result"
    }
   ],
   "source": [
    "# List the features sorted in descending order by feature importance\n",
    "# YOUR CODE HERE\n",
    "# loans_binary_encoded.columns.tolist()\n",
    "\n",
    "sorted(zip(loan_model.feature_importances_, X.columns), reverse=True)"
   ]
  },
  {
   "cell_type": "code",
   "execution_count": null,
   "id": "b1511d71",
   "metadata": {},
   "outputs": [],
   "source": []
  },
  {
   "cell_type": "code",
   "execution_count": null,
   "id": "445413f8",
   "metadata": {},
   "outputs": [],
   "source": []
  },
  {
   "cell_type": "markdown",
   "id": "fbd07d49",
   "metadata": {},
   "source": [
    "## Spare code"
   ]
  },
  {
   "cell_type": "code",
   "execution_count": 39,
   "id": "809b4a06",
   "metadata": {},
   "outputs": [],
   "source": [
    "# export \n",
    "df.to_csv(r\"c:./csv_exports/file_name.csv\", header = True)"
   ]
  },
  {
   "cell_type": "code",
   "execution_count": null,
   "id": "89cf902f",
   "metadata": {},
   "outputs": [],
   "source": [
    "# List the features sorted in descending order by feature importance\n",
    "# YOUR CODE HERE\n",
    "# loans_binary_encoded.columns.tolist()\n",
    "\n",
    "sorted(zip(rf_model.feature_importances_, X.columns), reverse=True)"
   ]
  }
 ],
 "metadata": {
  "kernelspec": {
   "display_name": "mlenv",
   "language": "python",
   "name": "mlenv"
  },
  "language_info": {
   "codemirror_mode": {
    "name": "ipython",
    "version": 3
   },
   "file_extension": ".py",
   "mimetype": "text/x-python",
   "name": "python",
   "nbconvert_exporter": "python",
   "pygments_lexer": "ipython3",
   "version": "3.7.10"
  }
 },
 "nbformat": 4,
 "nbformat_minor": 5
}
