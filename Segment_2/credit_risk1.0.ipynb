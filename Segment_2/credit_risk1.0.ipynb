{
 "cells": [
  {
   "cell_type": "code",
   "execution_count": 2,
   "metadata": {},
   "outputs": [],
   "source": [
    "import warnings\n",
    "warnings.filterwarnings('ignore')\n",
    "\n",
    "import numpy as np\n",
    "import pandas as pd\n",
    "\n",
    "from pathlib import Path\n",
    "from collections import Counter\n",
    "\n",
    "from imblearn.metrics import classification_report_imbalanced\n",
    "from imblearn.ensemble import BalancedRandomForestClassifier\n",
    "from imblearn.ensemble import EasyEnsembleClassifier\n",
    "\n",
    "from sklearn.metrics import confusion_matrix, accuracy_score, classification_report\n",
    "from sklearn.metrics import balanced_accuracy_score\n",
    "from sklearn.metrics import confusion_matrix\n",
    "from sklearn.ensemble import RandomForestClassifier\n",
    "from sklearn.preprocessing import StandardScaler\n",
    "from sklearn.model_selection import train_test_split\n"
   ]
  },
  {
   "cell_type": "markdown",
   "metadata": {},
   "source": [
    "# Read the CSV and Perform Basic Data Cleaning"
   ]
  },
  {
   "cell_type": "code",
   "execution_count": 6,
   "metadata": {},
   "outputs": [
    {
     "data": {
      "text/html": [
       "<div>\n",
       "<style scoped>\n",
       "    .dataframe tbody tr th:only-of-type {\n",
       "        vertical-align: middle;\n",
       "    }\n",
       "\n",
       "    .dataframe tbody tr th {\n",
       "        vertical-align: top;\n",
       "    }\n",
       "\n",
       "    .dataframe thead th {\n",
       "        text-align: right;\n",
       "    }\n",
       "</style>\n",
       "<table border=\"1\" class=\"dataframe\">\n",
       "  <thead>\n",
       "    <tr style=\"text-align: right;\">\n",
       "      <th></th>\n",
       "      <th>Account Number</th>\n",
       "      <th>Account Type</th>\n",
       "      <th>Loan ID</th>\n",
       "      <th>Loan Open Date</th>\n",
       "      <th>Loan Close Date</th>\n",
       "      <th>Loan Chargeoff Date</th>\n",
       "      <th>Loan\\nType</th>\n",
       "      <th>Loan Type Description</th>\n",
       "      <th>Loan Branch</th>\n",
       "      <th>Branch Name</th>\n",
       "      <th>...</th>\n",
       "      <th>Interest Type</th>\n",
       "      <th>Interest Due</th>\n",
       "      <th>Interest From Open</th>\n",
       "      <th>Credit Limit</th>\n",
       "      <th>Exposure</th>\n",
       "      <th>DQ Days</th>\n",
       "      <th>Cr Pmt Current</th>\n",
       "      <th>Credit Score</th>\n",
       "      <th>RBL Tier</th>\n",
       "      <th>Insurance Type</th>\n",
       "    </tr>\n",
       "  </thead>\n",
       "  <tbody>\n",
       "    <tr>\n",
       "      <th>0</th>\n",
       "      <td>178627</td>\n",
       "      <td>0</td>\n",
       "      <td>0</td>\n",
       "      <td>7/27/2007</td>\n",
       "      <td>12/17/2012</td>\n",
       "      <td>NaN</td>\n",
       "      <td>5</td>\n",
       "      <td>USED AUTO L5</td>\n",
       "      <td>21</td>\n",
       "      <td>Loan Administration</td>\n",
       "      <td>...</td>\n",
       "      <td>0</td>\n",
       "      <td>$0.00</td>\n",
       "      <td>$2,694.31</td>\n",
       "      <td>$0</td>\n",
       "      <td>$0</td>\n",
       "      <td>0</td>\n",
       "      <td>0</td>\n",
       "      <td>0</td>\n",
       "      <td>3</td>\n",
       "      <td>90</td>\n",
       "    </tr>\n",
       "    <tr>\n",
       "      <th>1</th>\n",
       "      <td>257568</td>\n",
       "      <td>0</td>\n",
       "      <td>2</td>\n",
       "      <td>12/21/2013</td>\n",
       "      <td>NaN</td>\n",
       "      <td>1/27/2016</td>\n",
       "      <td>9</td>\n",
       "      <td>PERSONAL L9</td>\n",
       "      <td>1</td>\n",
       "      <td>Main Branch</td>\n",
       "      <td>...</td>\n",
       "      <td>0</td>\n",
       "      <td>$1.47</td>\n",
       "      <td>$516.45</td>\n",
       "      <td>$0</td>\n",
       "      <td>$2,642</td>\n",
       "      <td>2201</td>\n",
       "      <td>L</td>\n",
       "      <td>670</td>\n",
       "      <td>3</td>\n",
       "      <td>90</td>\n",
       "    </tr>\n",
       "    <tr>\n",
       "      <th>2</th>\n",
       "      <td>285937</td>\n",
       "      <td>0</td>\n",
       "      <td>0</td>\n",
       "      <td>1/1/1901</td>\n",
       "      <td>NaN</td>\n",
       "      <td>1/1/1901</td>\n",
       "      <td>99</td>\n",
       "      <td>CHARGE OFF LOAN L99</td>\n",
       "      <td>16</td>\n",
       "      <td>IEG Branch</td>\n",
       "      <td>...</td>\n",
       "      <td>0</td>\n",
       "      <td>$0.00</td>\n",
       "      <td>$0.00</td>\n",
       "      <td>$0</td>\n",
       "      <td>$144,952</td>\n",
       "      <td>0</td>\n",
       "      <td>B</td>\n",
       "      <td>0</td>\n",
       "      <td>NaN</td>\n",
       "      <td>90</td>\n",
       "    </tr>\n",
       "    <tr>\n",
       "      <th>3</th>\n",
       "      <td>12121</td>\n",
       "      <td>0</td>\n",
       "      <td>0</td>\n",
       "      <td>12/21/1979</td>\n",
       "      <td>11/15/2002</td>\n",
       "      <td>9/19/2001</td>\n",
       "      <td>99</td>\n",
       "      <td>CHARGE OFF LOAN L99</td>\n",
       "      <td>1</td>\n",
       "      <td>Main Branch</td>\n",
       "      <td>...</td>\n",
       "      <td>0</td>\n",
       "      <td>$0.00</td>\n",
       "      <td>$871.11</td>\n",
       "      <td>$0</td>\n",
       "      <td>$0</td>\n",
       "      <td>0</td>\n",
       "      <td>D</td>\n",
       "      <td>0</td>\n",
       "      <td>NaN</td>\n",
       "      <td>0</td>\n",
       "    </tr>\n",
       "    <tr>\n",
       "      <th>4</th>\n",
       "      <td>15335</td>\n",
       "      <td>0</td>\n",
       "      <td>0</td>\n",
       "      <td>1/23/1982</td>\n",
       "      <td>NaN</td>\n",
       "      <td>4/26/2000</td>\n",
       "      <td>99</td>\n",
       "      <td>CHARGE OFF LOAN L99</td>\n",
       "      <td>1</td>\n",
       "      <td>Main Branch</td>\n",
       "      <td>...</td>\n",
       "      <td>0</td>\n",
       "      <td>$0.00</td>\n",
       "      <td>$77.63</td>\n",
       "      <td>$0</td>\n",
       "      <td>$410</td>\n",
       "      <td>7979</td>\n",
       "      <td>D</td>\n",
       "      <td>0</td>\n",
       "      <td>NaN</td>\n",
       "      <td>0</td>\n",
       "    </tr>\n",
       "  </tbody>\n",
       "</table>\n",
       "<p>5 rows × 28 columns</p>\n",
       "</div>"
      ],
      "text/plain": [
       "     Account Number  Account Type  Loan ID Loan Open Date Loan Close Date  \\\n",
       "0            178627             0        0      7/27/2007      12/17/2012   \n",
       "1            257568             0        2     12/21/2013             NaN   \n",
       "2            285937             0        0       1/1/1901             NaN   \n",
       "3             12121             0        0     12/21/1979      11/15/2002   \n",
       "4             15335             0        0      1/23/1982             NaN   \n",
       "\n",
       "  Loan Chargeoff Date  Loan\\nType Loan Type Description  Loan Branch  \\\n",
       "0                 NaN           5          USED AUTO L5           21   \n",
       "1           1/27/2016           9           PERSONAL L9            1   \n",
       "2            1/1/1901          99   CHARGE OFF LOAN L99           16   \n",
       "3           9/19/2001          99   CHARGE OFF LOAN L99            1   \n",
       "4           4/26/2000          99   CHARGE OFF LOAN L99            1   \n",
       "\n",
       "           Branch Name  ...  Interest Type Interest Due Interest From Open  \\\n",
       "0  Loan Administration  ...              0        $0.00          $2,694.31   \n",
       "1          Main Branch  ...              0        $1.47            $516.45   \n",
       "2           IEG Branch  ...              0        $0.00              $0.00   \n",
       "3          Main Branch  ...              0        $0.00            $871.11   \n",
       "4          Main Branch  ...              0        $0.00             $77.63   \n",
       "\n",
       "   Credit Limit  Exposure DQ Days Cr Pmt Current Credit Score  RBL Tier  \\\n",
       "0            $0        $0       0              0            0         3   \n",
       "1            $0    $2,642    2201              L          670         3   \n",
       "2            $0  $144,952       0              B            0       NaN   \n",
       "3            $0        $0       0              D            0       NaN   \n",
       "4            $0      $410    7979              D            0       NaN   \n",
       "\n",
       "  Insurance Type  \n",
       "0             90  \n",
       "1             90  \n",
       "2             90  \n",
       "3              0  \n",
       "4              0  \n",
       "\n",
       "[5 rows x 28 columns]"
      ]
     },
     "execution_count": 6,
     "metadata": {},
     "output_type": "execute_result"
    }
   ],
   "source": [
    "# Load the data\n",
    "file_path = \"c:./Resources/Open_Closed_Charged 082921.csv\"\n",
    "df = pd.read_csv(file_path)\n",
    "df.head()"
   ]
  },
  {
   "cell_type": "code",
   "execution_count": 4,
   "metadata": {},
   "outputs": [
    {
     "name": "stdout",
     "output_type": "stream",
     "text": [
      "Column   Account Number has 0 null values\n",
      "Column Account Type has 0 null values\n",
      "Column Loan ID has 0 null values\n",
      "Column Loan Open Date has 0 null values\n",
      "Column Loan Close Date has 39123 null values\n",
      "Column Loan Chargeoff Date has 50649 null values\n",
      "Column Loan\n",
      "Type has 0 null values\n",
      "Column Loan Type Description has 0 null values\n",
      "Column Loan Branch has 0 null values\n",
      "Column Branch Name has 0 null values\n",
      "Column  Purpose Code has 0 null values\n",
      "Column Purpose Code Desc has 344 null values\n",
      "Column Open Date has 0 null values\n",
      "Column Collateral Code has 0 null values\n",
      "Column Collateral Code Desc has 1 null values\n",
      "Column Interest Rate has 0 null values\n",
      "Column Original Balance has 0 null values\n",
      "Column Current Balance has 0 null values\n",
      "Column Interest Type has 0 null values\n",
      "Column Interest Due has 0 null values\n",
      "Column Interest From Open has 0 null values\n",
      "Column Credit Limit has 0 null values\n",
      "Column Exposure has 0 null values\n",
      "Column DQ Days has 0 null values\n",
      "Column Cr Pmt Current has 8 null values\n",
      "Column Credit Score has 0 null values\n",
      "Column RBL Tier has 12736 null values\n",
      "Column Insurance Type has 0 null values\n"
     ]
    }
   ],
   "source": [
    "# Find null values\n",
    "for column in df.columns:\n",
    "    print(f'Column {column} has {df[column].isnull().sum()} null values')"
   ]
  },
  {
   "cell_type": "code",
   "execution_count": null,
   "metadata": {},
   "outputs": [],
   "source": [
    "# Create a new DataFrame that removes useless columns.\n",
    "\n",
    "crypto_names_df = crypto_df.drop(columns=[\"Branch Name\", \n",
    "                                          \"xxxx\", \n",
    "                                          \"xxxx\", \n",
    "                                          \"xxxx\"])\n",
    "crypto_names_df"
   ]
  },
  {
   "cell_type": "code",
   "execution_count": null,
   "metadata": {},
   "outputs": [],
   "source": [
    "# Drop the null columns where all values are null\n",
    "df = df.dropna(axis='columns', how='all')\n",
    "\n",
    "# Drop the null rows\n",
    "df = df.dropna()\n",
    "\n",
    "# Remove the `Issued` loan status\n",
    "issued_mask = df['loan_status'] != 'Issued'\n",
    "df = df.loc[issued_mask]\n",
    "\n",
    "# convert interest rate to numerical\n",
    "df['int_rate'] = df['int_rate'].str.replace('%', '')\n",
    "df['int_rate'] = df['int_rate'].astype('float') / 100\n",
    "\n",
    "\n",
    "# Convert the target column values to low_risk and high_risk based on their values\n",
    "x = {'Current': 'low_risk'}   \n",
    "df = df.replace(x)\n",
    "\n",
    "x = dict.fromkeys(['Late (31-120 days)', 'Late (16-30 days)', 'Default', 'In Grace Period'], 'high_risk')    \n",
    "df = df.replace(x)\n",
    "\n",
    "df.reset_index(inplace=True, drop=True)\n",
    "\n",
    "df.head()"
   ]
  },
  {
   "cell_type": "code",
   "execution_count": null,
   "metadata": {},
   "outputs": [],
   "source": [
    "list(df.select_dtypes(include='object').columns)"
   ]
  },
  {
   "cell_type": "code",
   "execution_count": null,
   "metadata": {},
   "outputs": [],
   "source": [
    "# Binary encoding using Pandas # pd.get_dummies\n",
    "loans_binary_encoded = pd.get_dummies(df, columns=['Loan Type Description',\n",
    "#                                                    'verification_status',\n",
    "#                                                    'issue_d',\n",
    "#                                                    'pymnt_plan',\n",
    "#                                                    'initial_list_status',\n",
    "#                                                    'next_pymnt_d',\n",
    "#                                                    'application_type',\n",
    "#                                                    'hardship_flag',\n",
    "#                                                    'debt_settlement_flag'])\n",
    "loans_binary_encoded.head()"
   ]
  },
  {
   "cell_type": "markdown",
   "metadata": {},
   "source": [
    "# Split the Data into Training and Testing"
   ]
  },
  {
   "cell_type": "code",
   "execution_count": null,
   "metadata": {},
   "outputs": [],
   "source": [
    "# Create our features\n",
    "X = loans_binary_encoded.copy()\n",
    "X = X.drop('loan_status', axis=1)\n",
    "X.head()"
   ]
  },
  {
   "cell_type": "code",
   "execution_count": null,
   "metadata": {},
   "outputs": [],
   "source": [
    "# Create our target\n",
    "y = df['loan_status']\n",
    "y[:5]"
   ]
  },
  {
   "cell_type": "code",
   "execution_count": null,
   "metadata": {},
   "outputs": [],
   "source": [
    "X.describe()"
   ]
  },
  {
   "cell_type": "code",
   "execution_count": null,
   "metadata": {},
   "outputs": [],
   "source": []
  },
  {
   "cell_type": "code",
   "execution_count": null,
   "metadata": {},
   "outputs": [],
   "source": [
    "# Check the balance of our target values\n",
    "# y['loan_status'].value_counts()"
   ]
  },
  {
   "cell_type": "code",
   "execution_count": null,
   "metadata": {},
   "outputs": [],
   "source": [
    "X_train, X_test, y_train, y_test = train_test_split(X, \n",
    "                                                    y, \n",
    "                                                    random_state=1, \n",
    "                                                    stratify=y)\n",
    "X_train.shape"
   ]
  },
  {
   "cell_type": "markdown",
   "metadata": {},
   "source": [
    "# Scale"
   ]
  },
  {
   "cell_type": "code",
   "execution_count": null,
   "metadata": {},
   "outputs": [],
   "source": [
    "# # Creating a StandardScaler instance.\n",
    "# scaler = StandardScaler()\n",
    "# # Fitting the Standard Scaler with the training data.\n",
    "# X_scaler = scaler.fit(X_train)\n",
    "\n",
    "# # Scaling the data.\n",
    "# X_train_scaled = X_scaler.transform(X_train)\n",
    "# X_test_scaled = X_scaler.transform(X_test)"
   ]
  },
  {
   "cell_type": "code",
   "execution_count": null,
   "metadata": {},
   "outputs": [],
   "source": [
    "print(X_train.shape)\n",
    "print(X_test.shape)\n",
    "print(y_train.shape)\n",
    "print(y_test.shape)"
   ]
  },
  {
   "cell_type": "markdown",
   "metadata": {},
   "source": [
    "# Ensemble Learners\n",
    "\n",
    "In this section, you will compare two ensemble algorithms to determine which algorithm results in the best performance. You will train a Balanced Random Forest Classifier and an Easy Ensemble AdaBoost classifier . For each algorithm, be sure to complete the folliowing steps:\n",
    "\n",
    "1. Train the model using the training data. \n",
    "2. Calculate the balanced accuracy score from sklearn.metrics.\n",
    "3. Print the confusion matrix from sklearn.metrics.\n",
    "4. Generate a classication report using the `imbalanced_classification_report` from imbalanced-learn.\n",
    "5. For the Balanced Random Forest Classifier onely, print the feature importance sorted in descending order (most important feature to least important) along with the feature score\n",
    "\n",
    "Note: Use a random state of 1 for each algorithm to ensure consistency between tests"
   ]
  },
  {
   "cell_type": "markdown",
   "metadata": {},
   "source": [
    "### Balanced Random Forest Classifier"
   ]
  },
  {
   "cell_type": "code",
   "execution_count": null,
   "metadata": {},
   "outputs": [],
   "source": [
    "# Resample the training data with the BalancedRandomForestClassifier\n",
    "# Create a random forest classifier.\n",
    "rf_model = BalancedRandomForestClassifier(n_estimators=128, random_state=1) \n",
    "\n",
    "# Fitting the model\n",
    "rf_model = rf_model.fit(X_train, y_train)\n",
    "\n",
    "# Making predictions using the testing data.\n",
    "predictions = rf_model.predict(X_test)\n"
   ]
  },
  {
   "cell_type": "code",
   "execution_count": null,
   "metadata": {},
   "outputs": [],
   "source": [
    "predictions"
   ]
  },
  {
   "cell_type": "code",
   "execution_count": null,
   "metadata": {},
   "outputs": [],
   "source": [
    "balanced_accuracy_score(y_test, predictions)"
   ]
  },
  {
   "cell_type": "code",
   "execution_count": null,
   "metadata": {},
   "outputs": [],
   "source": [
    "# Display the confusion matrix\n",
    "predictions = rf_model.predict(X_test)\n",
    "confusion_matrix(y_test, predictions)"
   ]
  },
  {
   "cell_type": "code",
   "execution_count": null,
   "metadata": {},
   "outputs": [],
   "source": [
    "# Print the imbalanced classification report\n",
    "print(classification_report_imbalanced(y_test, predictions))"
   ]
  },
  {
   "cell_type": "markdown",
   "metadata": {},
   "source": [
    "# Sort by feature importance"
   ]
  },
  {
   "cell_type": "code",
   "execution_count": null,
   "metadata": {
    "scrolled": true
   },
   "outputs": [],
   "source": [
    "# List the features sorted in descending order by feature importance\n",
    "# loans_binary_encoded.columns.tolist()\n",
    "\n",
    "sorted(zip(rf_model.feature_importances_, X.columns), reverse=True)"
   ]
  },
  {
   "cell_type": "markdown",
   "metadata": {},
   "source": [
    "### Easy Ensemble AdaBoost Classifier"
   ]
  },
  {
   "cell_type": "code",
   "execution_count": null,
   "metadata": {},
   "outputs": [],
   "source": [
    "# Train the EasyEnsembleClassifier\n",
    "\n",
    "\n",
    "# Create a random forest classifier.\n",
    "eb_model = EasyEnsembleClassifier(n_estimators=128, random_state=1) \n",
    "\n",
    "# Fitting the model\n",
    "eb_model = eb_model.fit(X_train, y_train)\n",
    "\n",
    "# Making predictions using the testing data.\n",
    "predictions = eb_model.predict(X_test)"
   ]
  },
  {
   "cell_type": "code",
   "execution_count": null,
   "metadata": {},
   "outputs": [],
   "source": [
    "# Calculated the balanced accuracy score\n",
    "balanced_accuracy_score(y_test, predictions)"
   ]
  },
  {
   "cell_type": "code",
   "execution_count": null,
   "metadata": {},
   "outputs": [],
   "source": [
    "# Display the confusion matrix\n",
    "predictions = eb_model.predict(X_test)\n",
    "confusion_matrix(y_test, predictions)"
   ]
  },
  {
   "cell_type": "code",
   "execution_count": null,
   "metadata": {},
   "outputs": [],
   "source": [
    "# Print the imbalanced classification report\n",
    "print(classification_report_imbalanced(y_test, predictions))"
   ]
  },
  {
   "cell_type": "code",
   "execution_count": null,
   "metadata": {},
   "outputs": [],
   "source": [
    "df.columns.tolist()"
   ]
  }
 ],
 "metadata": {
  "kernelspec": {
   "display_name": "mlenv",
   "language": "python",
   "name": "mlenv"
  },
  "language_info": {
   "codemirror_mode": {
    "name": "ipython",
    "version": 3
   },
   "file_extension": ".py",
   "mimetype": "text/x-python",
   "name": "python",
   "nbconvert_exporter": "python",
   "pygments_lexer": "ipython3",
   "version": "3.7.10"
  }
 },
 "nbformat": 4,
 "nbformat_minor": 2
}
